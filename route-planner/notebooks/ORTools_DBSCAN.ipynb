{
  "nbformat": 4,
  "nbformat_minor": 0,
  "metadata": {
    "colab": {
      "provenance": [],
      "collapsed_sections": [
        "qpycimo5OlYN",
        "IBjWk4HLkaxX"
      ]
    },
    "kernelspec": {
      "name": "python3",
      "display_name": "Python 3"
    },
    "language_info": {
      "name": "python"
    }
  },
  "cells": [
    {
      "cell_type": "code",
      "source": [
        "!pip install ortools"
      ],
      "metadata": {
        "id": "S1hkYDdReHvk",
        "colab": {
          "base_uri": "https://localhost:8080/"
        },
        "outputId": "4b0d0f7a-e8e3-4c59-ee16-84e09d4188e2"
      },
      "execution_count": 1,
      "outputs": [
        {
          "output_type": "stream",
          "name": "stdout",
          "text": [
            "Looking in indexes: https://pypi.org/simple, https://us-python.pkg.dev/colab-wheels/public/simple/\n",
            "Requirement already satisfied: ortools in /usr/local/lib/python3.8/dist-packages (9.5.2237)\n",
            "Requirement already satisfied: absl-py>=0.13 in /usr/local/lib/python3.8/dist-packages (from ortools) (1.3.0)\n",
            "Requirement already satisfied: protobuf>=4.21.5 in /usr/local/lib/python3.8/dist-packages (from ortools) (4.21.12)\n",
            "Requirement already satisfied: numpy>=1.13.3 in /usr/local/lib/python3.8/dist-packages (from ortools) (1.21.6)\n"
          ]
        }
      ]
    },
    {
      "cell_type": "code",
      "execution_count": 2,
      "metadata": {
        "id": "3hIkWgd_T12b"
      },
      "outputs": [],
      "source": [
        "import pandas as pd\n",
        "import numpy as np"
      ]
    },
    {
      "cell_type": "code",
      "source": [
        "from google.colab import drive\n",
        "drive.mount('/content/drive')"
      ],
      "metadata": {
        "colab": {
          "base_uri": "https://localhost:8080/"
        },
        "id": "d-SGqilC-a7Z",
        "outputId": "a3beb9ad-413c-4783-85de-d7f1dbc2304b"
      },
      "execution_count": 3,
      "outputs": [
        {
          "output_type": "stream",
          "name": "stdout",
          "text": [
            "Drive already mounted at /content/drive; to attempt to forcibly remount, call drive.mount(\"/content/drive\", force_remount=True).\n"
          ]
        }
      ]
    },
    {
      "cell_type": "code",
      "source": [
        "%cd drive/MyDrive"
      ],
      "metadata": {
        "colab": {
          "base_uri": "https://localhost:8080/"
        },
        "id": "Lh6WP2S9UsJA",
        "outputId": "372894b2-13b9-4a2f-ce35-8a0398ec0083"
      },
      "execution_count": 4,
      "outputs": [
        {
          "output_type": "stream",
          "name": "stdout",
          "text": [
            "/content/drive/MyDrive\n"
          ]
        }
      ]
    },
    {
      "cell_type": "code",
      "source": [
        "myFile = open(\"distance_matrix.txt\")\n",
        "data = myFile.read()\n",
        "data = data.replace('[', '')\n",
        "data = data.replace(']', '')\n",
        "dataList = data.split(\"\\n\")\n",
        "distance_matrix_str = []\n",
        "for i in dataList:\n",
        "    i = i.replace(' ', '')\n",
        "    listTmp = i.split(',')\n",
        "    distance_matrix_str.append(listTmp)\n",
        "\n",
        "distance_matrix = []\n",
        "for i in distance_matrix_str:\n",
        "    distance_matrix.append([int(j) for j in i])\n",
        "print(len(distance_matrix))\n",
        "\n",
        "myFile.close()"
      ],
      "metadata": {
        "colab": {
          "base_uri": "https://localhost:8080/"
        },
        "id": "yVVho3cE_rvS",
        "outputId": "44480a2a-d024-403e-e5bc-6260f42f03ab"
      },
      "execution_count": 5,
      "outputs": [
        {
          "output_type": "stream",
          "name": "stdout",
          "text": [
            "195\n"
          ]
        }
      ]
    },
    {
      "cell_type": "code",
      "source": [
        "mat1 = np.array(distance_matrix)"
      ],
      "metadata": {
        "id": "SfUPs0h3ckmq"
      },
      "execution_count": 6,
      "outputs": []
    },
    {
      "cell_type": "code",
      "source": [
        "print(mat1)"
      ],
      "metadata": {
        "colab": {
          "base_uri": "https://localhost:8080/"
        },
        "id": "JWkrcpEBg7Rx",
        "outputId": "488c5b18-10f6-4724-b287-ce80f25f615e"
      },
      "execution_count": 7,
      "outputs": [
        {
          "output_type": "stream",
          "name": "stdout",
          "text": [
            "[[    0  1799  3527 ... 19076 17795 15058]\n",
            " [ 1799     0  2528 ... 17527 16246 13509]\n",
            " [ 3527  2528     0 ... 17138 15858 13121]\n",
            " ...\n",
            " [19076 17527 17138 ...     0  5693  4037]\n",
            " [17795 16246 15858 ...  5693     0  4793]\n",
            " [15058 13509 13121 ...  4037  4793     0]]\n"
          ]
        }
      ]
    },
    {
      "cell_type": "markdown",
      "source": [
        "# First approach"
      ],
      "metadata": {
        "id": "qpycimo5OlYN"
      }
    },
    {
      "cell_type": "code",
      "source": [
        "from ortools.constraint_solver import routing_enums_pb2\n",
        "from ortools.constraint_solver import pywrapcp"
      ],
      "metadata": {
        "id": "-aQwec1geD3j"
      },
      "execution_count": 8,
      "outputs": []
    },
    {
      "cell_type": "code",
      "source": [
        "class ORTools_Optimizer:\n",
        "    #def __init__(self, mat, vehicles):\n",
        "    def __init__(self, mat, vehicles, points):\n",
        "        self.mat = mat\n",
        "        self.vehicles = vehicles\n",
        "        self.points = points\n",
        "        self.data = {}\n",
        "    \n",
        "    def create_data_model(self):\n",
        "        \"\"\"Stores the data for the problem.\"\"\"\n",
        "        self.data['distance_matrix'] = self.mat\n",
        "        self.data['num_vehicles'] = self.vehicles\n",
        "        self.data['depot'] = 0\n",
        "    \n",
        "    def print_solution(self, data, manager, routing, solution):\n",
        "        \"\"\"Prints solution on console.\"\"\"\n",
        "        print(f'Objective: {solution.ObjectiveValue()}')\n",
        "        max_route_distance = 0\n",
        "        for vehicle_id in range(data['num_vehicles']):\n",
        "            index = routing.Start(vehicle_id)\n",
        "            plan_output = 'Route for vehicle {}:\\n'.format(vehicle_id)\n",
        "            route_distance = 0\n",
        "            while not routing.IsEnd(index):\n",
        "                plan_output += ' {} -> '.format(self.points[manager.IndexToNode(index)])\n",
        "                #plan_output += ' {} -> '.format(manager.IndexToNode(index))\n",
        "                previous_index = index\n",
        "                index = solution.Value(routing.NextVar(index))\n",
        "                route_distance += routing.GetArcCostForVehicle(\n",
        "                    previous_index, index, vehicle_id)\n",
        "            plan_output += '{}\\n'.format(manager.IndexToNode(index))\n",
        "            plan_output += 'Distance of the route: {}m\\n'.format(route_distance)\n",
        "            print(plan_output)\n",
        "            max_route_distance = max(route_distance, max_route_distance)\n",
        "        print('Maximum of the route distances: {}m'.format(max_route_distance))\n",
        "        \n",
        "    \n",
        "    def distance_callback(self, from_index, to_index):\n",
        "        \"\"\"Returns the distance between the two nodes.\"\"\"\n",
        "        # Convert from routing variable Index to distance matrix NodeIndex.\n",
        "        from_node = self.manager.IndexToNode(from_index)\n",
        "        to_node = self.manager.IndexToNode(to_index)\n",
        "        return self.data['distance_matrix'][from_node][to_node]\n",
        "    \n",
        "    def run(self):\n",
        "        self.create_data_model()\n",
        "\n",
        "        self.manager = pywrapcp.RoutingIndexManager(len(self.data['distance_matrix']), self.data['num_vehicles'], self.data['depot'])\n",
        "\n",
        "        # Create Routing Model.\n",
        "        routing = pywrapcp.RoutingModel(self.manager)\n",
        "        transit_callback_index = routing.RegisterTransitCallback(self.distance_callback)\n",
        "        routing.SetArcCostEvaluatorOfAllVehicles(transit_callback_index)\n",
        "\n",
        "        # Add Distance constraint.\n",
        "        dimension_name = 'Distance'\n",
        "        routing.AddDimension(\n",
        "            transit_callback_index,\n",
        "            0,  # no slack\n",
        "            30000000,  # vehicle maximum travel distance\n",
        "            True,  # start cumul to zero\n",
        "            dimension_name)\n",
        "        distance_dimension = routing.GetDimensionOrDie(dimension_name)\n",
        "        distance_dimension.SetGlobalSpanCostCoefficient(10000000)\n",
        "\n",
        "        # Setting first solution heuristic.\n",
        "        search_parameters = pywrapcp.DefaultRoutingSearchParameters()\n",
        "        search_parameters.first_solution_strategy = (\n",
        "            routing_enums_pb2.FirstSolutionStrategy.PATH_CHEAPEST_ARC)\n",
        "\n",
        "        # Solve the problem.\n",
        "        solution = routing.SolveWithParameters(search_parameters)\n",
        "\n",
        "        # Print solution on console.\n",
        "        if solution:\n",
        "            self.print_solution(self.data, self.manager, routing, solution)\n",
        "        else:\n",
        "            print('No solution found !')"
      ],
      "metadata": {
        "id": "1xfN6Tm_pTAN"
      },
      "execution_count": 41,
      "outputs": []
    },
    {
      "cell_type": "code",
      "source": [
        "points = np.zeros(195)\n",
        "for i in range(195):\n",
        "    points[i] = i\n",
        "optimizer = ORTools_Optimizer(mat1, 5, points)\n",
        "optimizer.run()"
      ],
      "metadata": {
        "colab": {
          "base_uri": "https://localhost:8080/"
        },
        "id": "83e_kbt0uelb",
        "outputId": "a534a7e9-b86b-4741-bdc7-32c275e33d0e"
      },
      "execution_count": 40,
      "outputs": [
        {
          "output_type": "stream",
          "name": "stdout",
          "text": [
            "Objective: 556860272104\n",
            "Route for vehicle 0:\n",
            " 0 ->  102 ->  113 ->  98 ->  103 ->  97 ->  137 ->  126 ->  95 ->  100 ->  96 ->  99 ->  129 ->  105 ->  123 ->  106 ->  101 ->  104 ->  107 ->  108 ->  110 ->  122 ->  118 ->  130 ->  135 ->  116 ->  131 ->  132 ->  133 ->  119 ->  125 ->  120 ->  139 ->  121 ->  109 ->  79 ->  54 ->  60 ->  62 ->  50 ->  61 ->  63 ->  70 ->  82 ->  88 ->  86 ->  67 ->  81 ->  83 ->  73 ->  93 ->  89 ->  85 ->  76 ->  59 ->  64 ->  68 ->  69 ->  51 ->  84 ->  72 ->  56 ->  55 ->  77 ->  66 ->  47 ->  12 ->  10 ->  4 ->  23 ->  41 ->  33 ->  38 ->  36 ->  35 ->  34 ->  32 ->  43 ->  8 ->  26 ->  39 ->  22 ->  27 ->  5 ->  18 ->  29 ->  28 ->  158 -> 0\n",
            "Distance of the route: 53877m\n",
            "\n",
            "Route for vehicle 1:\n",
            " 0 ->  25 ->  87 ->  49 ->  58 ->  52 ->  74 ->  90 ->  92 ->  53 ->  182 ->  184 ->  190 ->  154 ->  178 ->  180 ->  167 ->  172 ->  173 ->  161 ->  166 ->  177 ->  163 ->  174 ->  185 ->  175 ->  192 ->  170 ->  183 ->  57 ->  75 ->  94 ->  78 ->  80 ->  91 ->  71 ->  65 ->  152 ->  153 ->  11 ->  6 ->  2 ->  13 ->  19 ->  24 ->  3 -> 0\n",
            "Distance of the route: 54204m\n",
            "\n",
            "Route for vehicle 2:\n",
            " 0 ->  194 ->  179 ->  171 ->  146 ->  140 ->  150 ->  149 ->  148 ->  151 ->  144 ->  145 ->  142 ->  143 ->  147 -> 0\n",
            "Distance of the route: 55686m\n",
            "\n",
            "Route for vehicle 3:\n",
            " 0 ->  44 ->  42 ->  16 ->  15 ->  21 ->  7 ->  17 ->  45 ->  30 ->  20 ->  193 ->  157 ->  155 ->  187 ->  160 ->  186 ->  176 ->  168 ->  159 ->  191 ->  165 ->  189 ->  169 ->  181 ->  164 ->  162 ->  188 ->  156 ->  9 -> 0\n",
            "Distance of the route: 52859m\n",
            "\n",
            "Route for vehicle 4:\n",
            " 0 ->  37 ->  1 ->  40 ->  48 ->  14 ->  141 ->  114 ->  134 ->  111 ->  136 ->  124 ->  127 ->  115 ->  138 ->  128 ->  112 ->  117 ->  46 ->  31 -> 0\n",
            "Distance of the route: 55478m\n",
            "\n",
            "Maximum of the route distances: 55686m\n"
          ]
        }
      ]
    },
    {
      "cell_type": "markdown",
      "source": [
        "# Second approach\n",
        "https://arxiv.org/pdf/1812.02300.pdf"
      ],
      "metadata": {
        "id": "EdIU0VRJOs48"
      }
    },
    {
      "cell_type": "code",
      "source": [
        "from sklearn.cluster import DBSCAN\n",
        "\n",
        "def num_clusters(labels):\n",
        "    n_clusters = len(set(labels)) - (1 if -1 in labels else 0)\n",
        "    n_noise = list(labels).count(-1)\n",
        "\n",
        "    return n_clusters, n_noise\n",
        "\n",
        "def cluster_size(labels):\n",
        "    labelDict = {}\n",
        "    for i in labels:\n",
        "        if i in labelDict:\n",
        "            labelDict[i] += 1\n",
        "        else:\n",
        "            labelDict[i] = 1\n",
        "    \n",
        "    max_cluster_size = 0\n",
        "    avg_cluster_size = 0\n",
        "    for k,v in labelDict.items():\n",
        "        if k == -1:\n",
        "            continue\n",
        "        max_cluster_size = max(max_cluster_size, v)\n",
        "        avg_cluster_size += v\n",
        "    \n",
        "    n_clusters, _ = num_clusters(labels)\n",
        "    avg_cluster_size /= n_clusters\n",
        "    return max_cluster_size, avg_cluster_size\n",
        "\n",
        "m_per_radian = 6371008.8\n",
        "best_avg_cluster_size = 0\n",
        "min_radius = 1\n",
        "max_radius = 5e15\n",
        "max_cluster_size_const = 90\n",
        "final_clusters = None\n",
        "while min_radius < max_radius and min_radius > 0:\n",
        "    radius = int((min_radius + max_radius)/2)\n",
        "    eps = radius/m_per_radian\n",
        "    #clustering = DBSCAN(eps=eps, algorithm='ball_tree', metric='precomputed')\n",
        "    clustering = DBSCAN(eps=eps, metric='precomputed')\n",
        "    clustering.fit(mat1)\n",
        "    #n_clusters, n_noise = num_clusters(clustering.labels_)\n",
        "    max_cluster_size, avg_cluster_size = cluster_size(clustering.labels_)\n",
        "    #print(eps,max_cluster_size)\n",
        "    if max_cluster_size > max_cluster_size_const:\n",
        "        max_radius = radius - 1\n",
        "    else:\n",
        "        min_radius = radius + 1\n",
        "        if avg_cluster_size > best_avg_cluster_size:\n",
        "            best_avg_cluster_size = avg_cluster_size\n",
        "            final_clusters = clustering.labels_\n",
        "if final_clusters is not None:\n",
        "    print(final_clusters)\n",
        "else:\n",
        "    print(\"No solution found\")"
      ],
      "metadata": {
        "colab": {
          "base_uri": "https://localhost:8080/"
        },
        "id": "oDPFOR-HZBdk",
        "outputId": "ca8601ac-6d5d-401c-dc6a-94523235a208"
      },
      "execution_count": 42,
      "outputs": [
        {
          "output_type": "stream",
          "name": "stdout",
          "text": [
            "[ 0  0  0  0  0  0  0  0  0  0  0  0  0  0  1  0  0  0  0  0  0  0  0  0\n",
            "  0  0  0  0  0  0  0  0  0  0  0  0  0  0  0  0  0  0  0  0  0  0  0  0\n",
            "  1  2  2  2  2  2  2  2  2  2  2  2  2  2  2  2  2  2  2  2  2  2  2  2\n",
            "  2  2  2  2  2  2  2  2  2  2  2  2  2  2  2  2  2  2  2  2  2  2  2  1\n",
            "  1  1  1  1  1  1  1  1  1  1  1  1  1  1  1  1  1  1  1  1  1  1  1  1\n",
            "  1  1  1  1  1  1  1  1  1  1  1  1  1  1  1  1  1  1  1  1  3 -1  3  3\n",
            "  3  3  3  3  3  3  3  3  0  0  2  2  2  2  0  2  2  2  2  2  2  2  2  2\n",
            "  2  2  2  2  2  2  2  2  2  2  2  2  2  2  2  2  2  2  2  2  2  2  2  2\n",
            "  2  2  2]\n"
          ]
        }
      ]
    },
    {
      "cell_type": "markdown",
      "source": [
        "Outliers ignored for now in the _generateClusters_ function"
      ],
      "metadata": {
        "id": "Hm6R-WeWmCZB"
      }
    },
    {
      "cell_type": "code",
      "source": [
        "def generate_clusters(labels):\n",
        "    clusters = {}\n",
        "    for i in range(len(labels)):\n",
        "        if labels[i] == -1:\n",
        "            continue\n",
        "        if labels[i] in clusters:\n",
        "            clusters[labels[i]].append(i)\n",
        "        else:\n",
        "            clusters[labels[i]] = [i]\n",
        "    return clusters\n",
        "\n",
        "clusters = generate_clusters(final_clusters)"
      ],
      "metadata": {
        "id": "SbYe-5E7kmf0"
      },
      "execution_count": 43,
      "outputs": []
    },
    {
      "cell_type": "code",
      "source": [
        "def construct_distance_matrix(points):\n",
        "    n = len(points)\n",
        "    cluster_distance_matrix = np.zeros((n,n))\n",
        "    for i in range(n):\n",
        "        for j in range(n):\n",
        "            cluster_distance_matrix[i,j] = mat1[points[i], points[j]]\n",
        "    return cluster_distance_matrix"
      ],
      "metadata": {
        "id": "VMsGuglimdEl"
      },
      "execution_count": 44,
      "outputs": []
    },
    {
      "cell_type": "code",
      "source": [
        "def ortools_optimise_clusters(clusters, vehicles, toUseVehicles):\n",
        "    for cluster_num, cluster_points in clusters.items():\n",
        "        cluster_distance_matrix = construct_distance_matrix(cluster_points)\n",
        "        if vehicles <= 0:\n",
        "            print(\"No solution found\")\n",
        "            return\n",
        "        optimizer = ORTools_Optimizer(cluster_distance_matrix, toUseVehicles[cluster_num], cluster_points)\n",
        "        optimizer.run()\n",
        "        vehicles -= toUseVehicles[cluster_num]"
      ],
      "metadata": {
        "id": "b6QeplCEpNL9"
      },
      "execution_count": 45,
      "outputs": []
    },
    {
      "cell_type": "code",
      "source": [
        "ortools_optimise_clusters(clusters, 5, [1,1,2,1])"
      ],
      "metadata": {
        "colab": {
          "base_uri": "https://localhost:8080/"
        },
        "id": "JceivIfLzumO",
        "outputId": "47c249dd-7d73-48c3-978a-be55b3809646"
      },
      "execution_count": 47,
      "outputs": [
        {
          "output_type": "stream",
          "name": "stdout",
          "text": [
            "Objective: 332070033207\n",
            "Route for vehicle 0:\n",
            " 0 ->  158 ->  28 ->  29 ->  18 ->  5 ->  27 ->  22 ->  39 ->  26 ->  47 ->  152 ->  153 ->  12 ->  13 ->  19 ->  30 ->  45 ->  17 ->  24 ->  41 ->  23 ->  8 ->  43 ->  38 ->  36 ->  35 ->  34 ->  32 ->  15 ->  16 ->  33 ->  42 ->  4 ->  44 ->  3 ->  10 ->  21 ->  7 ->  6 ->  2 ->  11 ->  9 ->  25 ->  20 ->  46 ->  40 ->  1 ->  37 ->  31 -> 0\n",
            "Distance of the route: 33207m\n",
            "\n",
            "Maximum of the route distances: 33207m\n",
            "Objective: 271550027155\n",
            "Route for vehicle 0:\n",
            " 14 ->  48 ->  96 ->  100 ->  95 ->  126 ->  137 ->  97 ->  103 ->  98 ->  113 ->  102 ->  107 ->  104 ->  101 ->  106 ->  129 ->  99 ->  105 ->  123 ->  108 ->  110 ->  118 ->  122 ->  114 ->  130 ->  134 ->  111 ->  136 ->  124 ->  127 ->  135 ->  116 ->  131 ->  115 ->  138 ->  128 ->  132 ->  133 ->  119 ->  125 ->  112 ->  117 ->  109 ->  139 ->  121 ->  120 -> 0\n",
            "Distance of the route: 27155m\n",
            "\n",
            "Maximum of the route distances: 27155m\n",
            "Objective: 363830072172\n",
            "Route for vehicle 0:\n",
            " 49 ->  87 ->  75 ->  57 ->  183 ->  192 ->  170 ->  185 ->  174 ->  166 ->  161 ->  173 ->  172 ->  167 ->  180 ->  178 ->  177 ->  163 ->  175 ->  179 ->  171 ->  189 ->  169 ->  162 ->  194 ->  154 ->  182 ->  184 ->  190 ->  188 ->  156 ->  79 ->  78 ->  80 ->  94 ->  91 ->  71 ->  65 ->  62 ->  50 ->  60 ->  61 ->  63 ->  82 ->  70 ->  67 ->  74 ->  92 ->  90 ->  84 ->  72 ->  77 ->  55 ->  56 ->  89 -> 0\n",
            "Distance of the route: 35789m\n",
            "\n",
            "Route for vehicle 1:\n",
            " 49 ->  52 ->  66 ->  51 ->  69 ->  68 ->  64 ->  59 ->  76 ->  85 ->  81 ->  83 ->  73 ->  93 ->  86 ->  88 ->  54 ->  164 ->  181 ->  165 ->  191 ->  159 ->  168 ->  186 ->  176 ->  160 ->  187 ->  155 ->  157 ->  193 ->  53 ->  58 -> 0\n",
            "Distance of the route: 36383m\n",
            "\n",
            "Maximum of the route distances: 36383m\n",
            "Objective: 97000009700\n",
            "Route for vehicle 0:\n",
            " 140 ->  150 ->  149 ->  146 ->  142 ->  143 ->  147 ->  145 ->  144 ->  151 ->  148 -> 0\n",
            "Distance of the route: 9700m\n",
            "\n",
            "Maximum of the route distances: 9700m\n"
          ]
        }
      ]
    },
    {
      "cell_type": "markdown",
      "source": [
        "# TESTING GROUND"
      ],
      "metadata": {
        "id": "IBjWk4HLkaxX"
      }
    },
    {
      "cell_type": "code",
      "source": [
        "from sklearn.cluster import DBSCAN\n",
        "\n",
        "clustering = DBSCAN(eps = 4000, metric='precomputed')\n",
        "clustering.fit(mat1)"
      ],
      "metadata": {
        "colab": {
          "base_uri": "https://localhost:8080/"
        },
        "id": "BawUXYobOwaG",
        "outputId": "5d4ea065-8c46-41c9-e3e3-892d5370ab70"
      },
      "execution_count": null,
      "outputs": [
        {
          "output_type": "execute_result",
          "data": {
            "text/plain": [
              "DBSCAN(eps=4000, metric='precomputed')"
            ]
          },
          "metadata": {},
          "execution_count": 87
        }
      ]
    },
    {
      "cell_type": "code",
      "source": [
        "clustering.labels_"
      ],
      "metadata": {
        "colab": {
          "base_uri": "https://localhost:8080/"
        },
        "id": "0TavYz6zXhvY",
        "outputId": "afa24081-9fa2-45ec-d607-bd39b533bb04"
      },
      "execution_count": null,
      "outputs": [
        {
          "output_type": "execute_result",
          "data": {
            "text/plain": [
              "array([ 0,  0,  0,  0,  0,  0,  0,  0,  0,  0,  0,  0,  0,  0,  2,  0,  0,\n",
              "        0,  0,  0,  0,  0,  0,  0,  0,  0,  0,  0,  0,  0,  0,  0,  0,  0,\n",
              "        0,  0,  0,  0,  0,  0,  0,  0,  0,  0,  0,  0,  0,  0,  2,  1,  1,\n",
              "        1,  1,  1,  1,  1,  1,  1,  1,  1,  1,  1,  1,  1,  1,  1,  1,  1,\n",
              "        1,  1,  1,  1,  1,  1,  1,  1,  1,  1,  1,  1,  1,  1,  1,  1,  1,\n",
              "        1,  1,  1,  1,  1,  1,  1,  1,  1,  1,  2,  2,  2,  2,  2,  2,  2,\n",
              "        2,  2,  2,  2,  2,  2,  2,  2,  2,  2,  2,  2,  2,  2,  2,  2,  2,\n",
              "        2,  2,  2,  2,  2,  2,  2,  2,  2,  2,  2,  2,  2,  2,  2,  2,  2,\n",
              "        2,  2,  2,  2,  3, -1,  3,  3,  3,  3,  3,  3,  3,  3,  3,  3,  0,\n",
              "        0,  1,  1,  1,  1,  0,  1,  1,  1,  1,  1,  1,  1,  1,  1,  1,  1,\n",
              "        1,  1,  1,  1,  1,  1,  1,  1,  1,  1,  1,  1,  1,  1,  1,  1,  1,\n",
              "        1,  1,  1,  1,  1,  1, -1,  1])"
            ]
          },
          "metadata": {},
          "execution_count": 91
        }
      ]
    },
    {
      "cell_type": "code",
      "source": [
        "distances = {}\n",
        "for i in distance_matrix:\n",
        "    for j in i:\n",
        "        if j in distances:\n",
        "            distances[j] += 1\n",
        "        else:\n",
        "            distances[j] = 1\n",
        "        mini = min(mini, j)\n",
        "        maxi = max(maxi, j)"
      ],
      "metadata": {
        "id": "NYNhz5HlXyCD"
      },
      "execution_count": null,
      "outputs": []
    },
    {
      "cell_type": "code",
      "source": [
        "print(mini)\n",
        "print(maxi)\n",
        "print(distances)"
      ],
      "metadata": {
        "colab": {
          "base_uri": "https://localhost:8080/"
        },
        "id": "M4_BHkP7YDEJ",
        "outputId": "00c16830-4edd-498f-83dc-c8139d98efa3"
      },
      "execution_count": null,
      "outputs": [
        {
          "output_type": "stream",
          "name": "stdout",
          "text": [
            "0\n",
            "30249\n",
            "{0: 285, 1799: 2, 3527: 2, 1988: 8, 2142: 2, 3609: 2, 3236: 2, 3643: 2, 2278: 4, 2766: 2, 2624: 4, 3098: 2, 3535: 2, 3372: 2, 7505: 4, 2732: 2, 2803: 6, 3306: 2, 3768: 4, 2671: 2, 3479: 2, 3550: 4, 2173: 2, 3203: 4, 2802: 2, 3689: 2, 3218: 2, 3267: 2, 3067: 2, 1715: 12, 2358: 12, 2243: 6, 1749: 4, 3281: 2, 2154: 6, 2396: 6, 2040: 2, 3012: 2, 2886: 4, 8128: 2, 6321: 2, 9309: 10, 9104: 2, 9832: 8, 9363: 6, 11996: 6, 10058: 4, 9632: 6, 9634: 6, 11771: 4, 10329: 14, 9186: 8, 9605: 8, 8946: 8, 9669: 2, 10003: 4, 8640: 16, 9439: 2, 9982: 2, 10022: 8, 9884: 2, 9905: 8, 8771: 2, 9811: 12, 9719: 8, 9999: 4, 12938: 4, 9626: 4, 9429: 4, 9740: 14, 9224: 2, 9704: 8, 10563: 4, 9709: 6, 9852: 18, 9668: 2, 9961: 12, 9897: 8, 9649: 2, 9983: 6, 8937: 4, 10078: 8, 8842: 8, 9953: 4, 9943: 4, 10016: 8, 10037: 4, 10596: 2, 9973: 8, 10200: 2, 10090: 4, 9534: 6, 10238: 4, 9888: 6, 10479: 6, 10185: 6, 10397: 8, 11471: 8, 12794: 2, 13205: 2, 11953: 4, 13244: 4, 12952: 6, 13170: 2, 12244: 4, 13225: 2, 12375: 4, 12437: 10, 13093: 2, 13179: 4, 9988: 2, 13114: 4, 12917: 2, 9920: 2, 13377: 2, 13235: 4, 12923: 4, 13048: 2, 13352: 4, 12937: 2, 10035: 10, 25483: 8, 24878: 2, 25670: 2, 25758: 2, 26344: 2, 26155: 2, 23077: 2, 27930: 4, 4137: 4, 15060: 2, 15151: 8, 13420: 2, 16227: 2, 1201: 4, 15895: 2, 21352: 2, 16398: 2, 16540: 2, 16346: 4, 16211: 4, 16422: 2, 16082: 6, 15878: 2, 15140: 4, 16543: 22, 18671: 4, 17671: 2, 16822: 2, 16143: 2, 16083: 2, 16237: 6, 15464: 4, 15380: 4, 18777: 2, 16040: 2, 15787: 4, 15629: 2, 15489: 2, 15943: 4, 16889: 2, 19076: 2, 17795: 2, 15058: 8, 2528: 2, 1007: 2, 1241: 2, 3338: 2, 2651: 2, 1378: 4, 1855: 2, 1631: 4, 2188: 2, 2379: 2, 5862: 2, 1832: 2, 1902: 2, 3034: 4, 2776: 2, 1761: 4, 2487: 2, 3279: 2, 1272: 2, 1737: 8, 1892: 2, 2789: 6, 2931: 6, 4062: 4, 3250: 2, 2157: 4, 474: 4, 1458: 12, 1343: 6, 197: 4, 3010: 4, 434: 4, 1496: 6, 1140: 2, 2102: 12, 1116: 2, 7135: 6, 4678: 4, 7759: 6, 7555: 4, 8283: 2, 7814: 4, 10446: 6, 8509: 14, 8082: 4, 8085: 12, 10221: 6, 8780: 4, 7637: 4, 8056: 8, 7397: 2, 8120: 4, 8454: 2, 7091: 6, 7890: 6, 8433: 4, 8473: 6, 8335: 4, 8355: 4, 7222: 8, 8262: 4, 8169: 8, 8449: 4, 11389: 6, 8076: 6, 7879: 4, 8191: 8, 7674: 10, 8155: 4, 9014: 6, 8160: 2, 8303: 8, 8119: 2, 8412: 2, 8348: 6, 8100: 6, 8434: 2, 7388: 2, 8529: 2, 7293: 6, 8768: 2, 8757: 4, 8831: 6, 8852: 6, 9411: 12, 8788: 4, 9015: 6, 8905: 6, 9053: 6, 8703: 4, 9293: 4, 9000: 2, 9212: 6, 11458: 2, 11609: 2, 13192: 6, 11940: 2, 12058: 6, 12940: 2, 13158: 2, 12232: 6, 12040: 2, 12362: 4, 12425: 6, 11908: 2, 13167: 4, 8803: 2, 13102: 8, 12904: 2, 8735: 2, 12192: 4, 13223: 2, 12911: 4, 13035: 6, 13340: 2, 12925: 28, 8850: 4, 23934: 8, 23329: 2, 24120: 2, 21430: 2, 24795: 2, 24606: 2, 21892: 2, 26380: 4, 3144: 4, 13511: 4, 13602: 8, 11871: 16, 14678: 2, 2652: 2, 14346: 4, 19803: 2, 14849: 2, 14991: 2, 14797: 6, 14662: 6, 14873: 4, 14533: 8, 14329: 2, 13591: 2, 14993: 2, 17122: 8, 16122: 12, 15273: 2, 14593: 2, 14688: 6, 13915: 4, 13831: 2, 17227: 6, 14491: 2, 14238: 2, 14080: 2, 13940: 8, 14394: 2, 15340: 4, 17527: 2, 16246: 2, 13509: 4, 1348: 6, 2456: 2, 4232: 2, 191: 2, 1703: 4, 2592: 4, 731: 2, 1986: 14, 420: 2, 781: 2, 327: 2, 5447: 2, 3046: 4, 1835: 2, 4492: 2, 889: 4, 1262: 2, 1539: 4, 4737: 2, 2339: 2, 1497: 2, 768: 4, 4050: 2, 4389: 2, 5520: 2, 4708: 4, 1362: 4, 2118: 2, 2672: 12, 2557: 4, 2327: 2, 4468: 2, 2763: 2, 2168: 2, 2354: 2, 1307: 6, 5084: 4, 5380: 2, 7371: 10, 7167: 4, 7894: 2, 7426: 2, 8121: 2, 7694: 4, 7696: 4, 9833: 6, 8392: 4, 7248: 2, 7668: 2, 7008: 2, 7731: 6, 8066: 2, 6703: 2, 7501: 2, 8045: 2, 7947: 2, 7967: 2, 6834: 4, 7873: 4, 7781: 4, 8061: 4, 11000: 4, 7688: 2, 7491: 2, 7803: 4, 7286: 4, 7766: 8, 8626: 6, 7772: 2, 7914: 4, 8023: 4, 7960: 4, 7711: 10, 8046: 6, 7000: 2, 8140: 6, 6905: 2, 9461: 2, 9450: 6, 9524: 4, 9545: 2, 10104: 6, 9481: 2, 9708: 4, 9598: 4, 9041: 6, 9746: 14, 9396: 6, 9987: 6, 9693: 6, 9666: 6, 12267: 2, 11400: 10, 10148: 12, 12131: 8, 11148: 4, 11366: 4, 10440: 2, 12112: 2, 10570: 6, 10633: 8, 12239: 4, 11375: 6, 9496: 8, 11309: 12, 11112: 4, 9428: 2, 11868: 2, 11431: 4, 11118: 8, 11243: 6, 11548: 4, 11133: 8, 9543: 10, 23546: 8, 22941: 10, 23732: 2, 23820: 2, 24407: 2, 24218: 2, 25169: 2, 25992: 4, 1093: 4, 13123: 2, 13214: 10, 11482: 4, 14289: 2, 3747: 2, 13958: 2, 19415: 2, 14461: 2, 14602: 4, 14408: 4, 14273: 4, 14484: 2, 14144: 6, 13203: 14, 14605: 6, 16733: 4, 15733: 2, 14885: 2, 14205: 2, 14145: 2, 14300: 2, 13526: 6, 13443: 6, 16839: 2, 14103: 4, 13850: 4, 13692: 2, 13552: 2, 14005: 2, 14951: 2, 17138: 18, 15858: 4, 13121: 2, 478: 6, 2574: 2, 1947: 2, 614: 4, 2076: 2, 928: 6, 1768: 2, 2129: 2, 1675: 4, 6826: 2, 1068: 4, 1138: 4, 2270: 2, 2072: 12, 1981: 14, 1783: 20, 2515: 4, 508: 4, 973: 2, 2116: 2, 2025: 4, 2167: 2, 3298: 2, 2486: 2, 1168: 6, 1026: 6, 694: 12, 579: 4, 1235: 4, 2246: 2, 1671: 4, 732: 2, 376: 2, 1113: 4, 2196: 2, 6432: 2, 5641: 4, 8719: 10, 8515: 2, 9242: 2, 8774: 6, 11406: 6, 9469: 2, 9042: 4, 9044: 6, 11181: 6, 8597: 2, 9016: 8, 8357: 4, 9080: 6, 9414: 8, 8051: 8, 8849: 6, 9393: 8, 9433: 4, 9295: 4, 9315: 4, 8182: 6, 9222: 2, 9129: 4, 9409: 6, 12348: 2, 9036: 4, 8839: 2, 9151: 8, 8634: 2, 9114: 6, 9974: 4, 9120: 4, 9262: 2, 9079: 2, 9371: 6, 9308: 16, 9059: 2, 9394: 4, 9488: 4, 8253: 2, 9732: 2, 9721: 4, 9794: 4, 9815: 6, 10374: 2, 9752: 6, 9979: 6, 9869: 6, 9312: 6, 10257: 4, 9963: 2, 10176: 2, 10781: 8, 12572: 6, 12515: 2, 11263: 8, 13022: 8, 12262: 2, 12480: 2, 11555: 4, 13003: 2, 11685: 6, 11747: 8, 12872: 2, 12489: 10, 9766: 14, 12424: 2, 12227: 2, 9698: 4, 12983: 2, 12546: 2, 12233: 4, 12358: 32, 12663: 2, 12247: 2, 9814: 2, 24894: 8, 24289: 2, 25080: 2, 25168: 2, 25755: 2, 25566: 2, 22855: 2, 27340: 4, 2441: 6, 14471: 6, 14562: 8, 12830: 2, 15637: 2, 1772: 4, 15306: 4, 20763: 2, 15809: 2, 15950: 2, 15756: 4, 15621: 2, 15832: 2, 15492: 6, 15288: 2, 14551: 6, 15953: 4, 18082: 8, 17082: 4, 16233: 2, 15553: 2, 15493: 6, 15648: 6, 14875: 4, 14791: 2, 18187: 2, 15451: 2, 15198: 2, 15040: 6, 14900: 4, 15353: 2, 16299: 4, 18486: 2, 17206: 2, 14469: 2, 2312: 2, 2264: 6, 2125: 14, 136: 6, 2321: 2, 1169: 6, 2010: 2, 2370: 2, 1917: 2, 7036: 8, 591: 2, 1164: 4, 1990: 4, 2313: 4, 2183: 2, 2234: 8, 263: 4, 1202: 4, 2357: 2, 1547: 2, 1887: 2, 3018: 2, 2206: 2, 1397: 4, 1263: 4, 217: 12, 101: 6, 1472: 2, 1965: 4, 1908: 2, 255: 4, 1342: 2, 2433: 2, 6526: 2, 6969: 2, 8961: 8, 8756: 8, 9484: 6, 11648: 10, 9710: 8, 9283: 18, 9286: 8, 11423: 4, 9981: 4, 8838: 4, 9257: 6, 8598: 2, 9321: 4, 9655: 22, 8292: 6, 9091: 2, 9674: 8, 9536: 2, 9557: 4, 8423: 2, 9463: 8, 9650: 8, 12590: 8, 9278: 6, 9081: 2, 9392: 2, 8876: 4, 9356: 2, 10215: 10, 9361: 2, 9504: 8, 9320: 6, 9613: 2, 9549: 10, 9301: 2, 9635: 4, 8589: 2, 9730: 8, 8494: 4, 9962: 8, 10057: 6, 10616: 4, 9993: 8, 10220: 2, 10110: 14, 9553: 2, 9908: 4, 10498: 8, 10204: 2, 10417: 4, 11256: 6, 12813: 10, 12990: 6, 11738: 2, 13720: 2, 12737: 2, 12955: 2, 12030: 2, 13702: 2, 12160: 4, 12222: 6, 13113: 2, 12964: 8, 10008: 2, 12899: 4, 12702: 2, 9940: 2, 13458: 2, 13020: 4, 12708: 6, 12833: 2, 13137: 4, 12722: 18, 10055: 6, 25135: 8, 24530: 2, 25322: 2, 25410: 2, 25996: 2, 25807: 2, 26759: 2, 27582: 4, 2682: 4, 14712: 2, 14803: 6, 13072: 2, 15879: 2, 2014: 2, 15547: 4, 21004: 2, 16050: 2, 16192: 2, 15998: 4, 15863: 2, 16074: 2, 15734: 8, 15530: 6, 14792: 4, 16195: 2, 18323: 4, 17323: 2, 16474: 2, 15794: 2, 15735: 2, 15889: 2, 15116: 4, 15032: 4, 18429: 2, 15692: 2, 15439: 4, 15281: 2, 15141: 2, 15595: 2, 16541: 2, 18728: 2, 17447: 2, 14710: 12, 4041: 4, 2622: 4, 2176: 4, 4417: 2, 3265: 4, 4106: 2, 3829: 2, 4013: 2, 8874: 2, 1721: 4, 2913: 2, 533: 4, 4197: 2, 4279: 4, 2862: 4, 777: 2, 2524: 2, 3865: 2, 4453: 6, 1515: 6, 430: 2, 1809: 2, 997: 4, 3730: 6, 3359: 4, 2095: 14, 2211: 6, 3568: 4, 4004: 2, 2516: 2, 2414: 2, 3675: 2, 4529: 2, 5955: 2, 8807: 4, 9349: 10, 10943: 2, 10474: 16, 10999: 2, 11169: 4, 10743: 2, 10745: 6, 12882: 2, 11440: 6, 10297: 4, 10716: 4, 10780: 2, 11114: 10, 9751: 6, 10550: 4, 11093: 8, 10995: 10, 11016: 2, 9882: 6, 10922: 8, 10830: 4, 11110: 10, 14049: 2, 10737: 2, 10540: 6, 10851: 2, 10335: 8, 10815: 8, 11674: 8, 10820: 6, 10963: 2, 10779: 6, 11072: 4, 11008: 4, 10760: 4, 11094: 12, 10048: 2, 11189: 2, 12069: 2, 12059: 2, 12132: 4, 12153: 4, 12712: 6, 12089: 4, 12316: 2, 12206: 4, 11650: 6, 12354: 2, 12004: 4, 12595: 2, 12301: 6, 12513: 8, 12894: 4, 15495: 2, 14629: 2, 13376: 4, 15359: 4, 14376: 4, 14594: 2, 13668: 4, 13799: 4, 13861: 8, 15467: 2, 14603: 4, 12104: 2, 14538: 2, 14341: 2, 12036: 6, 15096: 2, 14659: 8, 14347: 6, 14776: 2, 14361: 4, 12151: 4, 26594: 8, 25989: 2, 26781: 2, 26869: 2, 27455: 6, 27266: 2, 28218: 2, 29041: 4, 4281: 6, 16171: 4, 16262: 6, 14531: 4, 17338: 2, 3420: 2, 17006: 2, 22463: 2, 17509: 2, 17651: 4, 17457: 4, 17322: 4, 17533: 6, 17193: 6, 16989: 4, 16251: 2, 17654: 2, 19782: 4, 18782: 2, 17933: 2, 17253: 2, 17194: 4, 17348: 2, 16575: 8, 16491: 2, 19888: 2, 17151: 2, 16898: 6, 16740: 2, 16600: 2, 17054: 2, 18000: 2, 20187: 2, 18906: 2, 16169: 4, 1173: 2, 2400: 6, 540: 2, 1795: 6, 229: 4, 589: 2, 5255: 2, 2855: 2, 1644: 6, 4301: 2, 698: 6, 1071: 2, 4546: 2, 2148: 2, 1306: 2, 576: 4, 3859: 2, 4198: 2, 5329: 8, 4517: 2, 1170: 6, 1926: 2, 2481: 14, 2366: 4, 2136: 2, 4276: 2, 2572: 2, 1977: 4, 2163: 4, 1115: 2, 1911: 14, 4892: 2, 5188: 4, 7180: 6, 6975: 2, 7703: 2, 7234: 2, 9867: 20, 7929: 2, 7503: 8, 9642: 2, 8200: 8, 7057: 4, 7476: 2, 6817: 2, 7540: 2, 7874: 4, 6511: 2, 7310: 8, 7853: 2, 7893: 2, 7755: 6, 7776: 4, 6642: 2, 7682: 6, 7590: 4, 7870: 6, 10809: 4, 7497: 4, 7300: 6, 7611: 2, 7095: 4, 7575: 2, 8435: 8, 7580: 2, 7723: 2, 7539: 4, 7832: 6, 7768: 6, 7520: 2, 7854: 4, 6808: 6, 7949: 2, 6713: 8, 9270: 4, 9259: 6, 9332: 2, 9354: 10, 9913: 4, 9290: 2, 9517: 20, 9407: 6, 9554: 4, 9205: 8, 9795: 4, 9501: 2, 9714: 10, 9475: 2, 12076: 2, 11209: 6, 9957: 6, 11939: 4, 10956: 2, 11174: 6, 10249: 4, 11921: 2, 10379: 4, 10441: 14, 12047: 2, 11183: 6, 9305: 8, 10921: 12, 9237: 6, 11677: 4, 11240: 10, 10927: 6, 11052: 2, 11357: 6, 10941: 2, 9352: 4, 23354: 8, 22749: 2, 23541: 2, 23629: 2, 24216: 2, 24027: 2, 24978: 2, 25801: 4, 901: 8, 12931: 16, 13023: 2, 11291: 8, 14098: 2, 3555: 2, 13766: 2, 19224: 2, 14270: 4, 14411: 2, 14217: 4, 14082: 2, 14293: 4, 13953: 6, 13749: 2, 13012: 4, 14414: 4, 16542: 6, 15542: 2, 14693: 2, 14014: 2, 13954: 2, 14108: 6, 13335: 6, 13251: 2, 16648: 4, 13911: 4, 13658: 2, 13501: 2, 13360: 10, 13814: 4, 14760: 4, 16947: 2, 15666: 6, 12929: 6, 2261: 4, 1713: 4, 1464: 2, 1402: 6, 1714: 4, 1309: 4, 6428: 2, 1067: 4, 2881: 6, 1436: 2, 1575: 2, 164: 4, 3126: 2, 2009: 6, 1167: 2, 2439: 4, 2778: 4, 3909: 2, 3097: 2, 1031: 6, 2232: 2, 2018: 12, 2226: 4, 2857: 2, 2877: 2, 1837: 2, 2024: 2, 976: 4, 2251: 2, 5012: 2, 6361: 2, 8305: 6, 8828: 4, 8359: 2, 10992: 6, 9054: 2, 8628: 8, 8630: 8, 10767: 4, 9325: 4, 8601: 2, 7942: 4, 8665: 6, 8999: 2, 7636: 6, 8978: 6, 9018: 6, 8880: 2, 8901: 4, 7767: 8, 8715: 6, 8995: 2, 11934: 6, 8622: 6, 8425: 2, 8736: 4, 8220: 2, 8700: 4, 9559: 2, 8705: 8, 8848: 2, 8664: 24, 8957: 6, 8893: 4, 8645: 4, 8979: 12, 7933: 4, 9074: 8, 7838: 2, 10443: 4, 10432: 14, 10505: 2, 10526: 10, 11085: 8, 10463: 4, 10690: 8, 10580: 8, 10023: 4, 10727: 2, 10377: 10, 10968: 16, 10674: 10, 10887: 2, 13381: 2, 12514: 2, 11261: 6, 12261: 12, 12479: 4, 11553: 4, 13226: 4, 11684: 4, 11746: 10, 12488: 6, 10478: 6, 12423: 12, 12226: 8, 10410: 10, 12981: 8, 12544: 8, 12356: 10, 12661: 2, 12246: 18, 10525: 8, 24479: 8, 23874: 2, 24666: 6, 24754: 2, 25341: 2, 25151: 2, 26103: 2, 26926: 4, 2074: 4, 14056: 4, 14147: 6, 12416: 2, 15223: 2, 3416: 2, 14891: 2, 20348: 2, 15394: 8, 15536: 6, 15342: 4, 15207: 2, 15418: 6, 15078: 6, 14874: 2, 14136: 2, 15539: 6, 17667: 4, 16667: 2, 15818: 2, 15139: 2, 15079: 2, 15233: 8, 14460: 4, 17773: 2, 15036: 6, 14783: 2, 14625: 6, 14485: 2, 14939: 10, 15885: 2, 18072: 2, 16791: 2, 14054: 2, 2613: 4, 1900: 8, 2023: 16, 2506: 4, 2053: 2, 7172: 2, 454: 4, 1028: 4, 1853: 4, 2450: 4, 2319: 4, 2161: 10, 2098: 4, 348: 4, 1287: 4, 2493: 6, 1411: 6, 1751: 6, 2069: 4, 1482: 4, 1399: 6, 80: 24, 35: 12, 1608: 4, 1829: 12, 2044: 6, 340: 6, 238: 4, 1427: 6, 2569: 4, 6390: 8, 7105: 8, 9097: 20, 8892: 4, 9620: 10, 11784: 6, 9846: 8, 9420: 4, 9422: 14, 11559: 6, 10117: 8, 8974: 4, 8734: 12, 9457: 12, 9791: 10, 8428: 4, 9227: 6, 9770: 26, 9810: 6, 9672: 6, 8559: 14, 9599: 10, 9507: 10, 9787: 6, 12726: 10, 9217: 6, 9528: 8, 9012: 8, 9492: 10, 10352: 6, 9497: 12, 9640: 6, 9456: 4, 9749: 4, 9685: 12, 9437: 10, 9771: 6, 8726: 4, 9866: 4, 10109: 12, 10098: 6, 10172: 4, 10193: 6, 10752: 8, 10129: 6, 10356: 8, 10246: 14, 9689: 8, 10394: 6, 10044: 8, 10634: 22, 10341: 10, 10553: 8, 11392: 8, 12950: 8, 13126: 4, 11874: 8, 13856: 4, 12873: 4, 13092: 6, 12166: 8, 13838: 12, 12296: 8, 13249: 4, 13101: 8, 10144: 8, 12838: 4, 10076: 12, 13594: 4, 13157: 4, 12844: 10, 12969: 4, 13274: 6, 12858: 4, 10191: 4, 25271: 16, 25458: 4, 25546: 4, 26133: 4, 25944: 4, 26895: 4, 27718: 8, 2818: 8, 14848: 4, 14940: 4, 13208: 6, 16015: 6, 2150: 4, 15683: 4, 21141: 4, 16187: 4, 16328: 6, 16134: 10, 15999: 4, 16210: 4, 15870: 12, 14929: 16, 16331: 4, 18459: 8, 17459: 12, 16610: 4, 15931: 6, 15871: 4, 16025: 6, 15252: 8, 15168: 4, 18565: 4, 15828: 4, 15575: 4, 15277: 6, 15731: 6, 16677: 4, 18864: 4, 17583: 4, 14846: 6, 1152: 2, 435: 2, 769: 6, 606: 2, 4716: 2, 3068: 2, 1857: 2, 4270: 4, 910: 2, 733: 4, 1650: 12, 4515: 2, 2361: 2, 1519: 2, 270: 6, 4071: 2, 4167: 4, 5784: 2, 4486: 2, 1383: 6, 1620: 2, 2694: 12, 2578: 4, 1830: 2, 4245: 4, 2266: 2, 2189: 2, 2376: 2, 1328: 6, 1573: 4, 5105: 2, 4648: 2, 6767: 6, 6563: 4, 7290: 4, 6822: 4, 9454: 2, 7517: 4, 7090: 2, 7092: 2, 9229: 2, 7788: 12, 6644: 4, 7064: 8, 6404: 2, 7127: 10, 7461: 6, 6099: 2, 6897: 2, 7441: 10, 7481: 2, 7343: 4, 7363: 2, 6230: 2, 7269: 2, 7177: 4, 7457: 4, 10396: 8, 7084: 4, 6887: 10, 7198: 10, 6682: 2, 7162: 2, 8022: 4, 7168: 4, 7419: 6, 7356: 6, 7107: 2, 6396: 6, 7536: 2, 6301: 2, 8730: 2, 8793: 6, 8814: 6, 9373: 14, 8750: 6, 8977: 12, 8867: 6, 8310: 12, 9255: 4, 9174: 8, 8935: 2, 11536: 2, 10669: 12, 9417: 2, 10635: 2, 11381: 4, 9839: 12, 9901: 8, 11507: 6, 10644: 6, 8765: 2, 10578: 6, 10381: 2, 8697: 6, 11137: 2, 10700: 4, 10387: 8, 10512: 6, 10817: 6, 10401: 4, 8812: 6, 22337: 2, 23128: 2, 23216: 2, 23803: 2, 23614: 2, 24565: 2, 25388: 4, 1114: 4, 12519: 2, 12610: 6, 10878: 4, 13685: 2, 13353: 6, 18811: 2, 13857: 2, 13998: 2, 13804: 4, 13669: 2, 13880: 2, 13540: 10, 13336: 6, 12599: 4, 14001: 2, 16129: 6, 15129: 2, 14280: 2, 13601: 2, 13541: 10, 13696: 2, 12922: 6, 12839: 10, 16235: 8, 13499: 10, 13245: 6, 13088: 4, 12948: 2, 13401: 6, 16534: 4, 15254: 10, 12517: 4, 748: 2, 5867: 2, 2126: 2, 1549: 2, 3333: 2, 1144: 2, 1014: 4, 856: 4, 3578: 2, 2001: 4, 1159: 2, 1188: 4, 2891: 2, 3231: 2, 4361: 6, 3549: 2, 1023: 4, 1380: 2, 1865: 4, 1590: 2, 3309: 2, 2026: 2, 1663: 6, 968: 2, 1690: 2, 5504: 2, 5800: 2, 7792: 8, 7587: 6, 8315: 8, 7846: 2, 8541: 6, 8115: 4, 8117: 4, 10254: 2, 7669: 2, 8088: 6, 7429: 8, 8152: 4, 8486: 4, 7123: 2, 7922: 2, 8465: 2, 8505: 6, 8367: 4, 8388: 4, 7254: 2, 8294: 18, 8202: 4, 8482: 6, 11421: 2, 8109: 2, 7912: 2, 8223: 4, 7707: 2, 8187: 4, 9046: 2, 8192: 12, 8151: 2, 8444: 4, 8380: 6, 8132: 6, 8466: 10, 7420: 4, 8561: 4, 7325: 2, 9871: 2, 9944: 4, 9965: 6, 10524: 10, 9902: 2, 10019: 8, 9462: 6, 10166: 4, 9816: 8, 10407: 8, 10113: 2, 10326: 10, 10087: 4, 12688: 2, 11821: 4, 10569: 4, 12551: 2, 11568: 6, 11786: 2, 10861: 8, 12533: 2, 10991: 4, 11053: 6, 12659: 2, 11795: 12, 9917: 6, 11730: 2, 11533: 6, 9849: 4, 12289: 2, 11851: 10, 11539: 4, 11664: 2, 11968: 4, 9964: 4, 23966: 8, 23361: 2, 24153: 2, 24241: 2, 24828: 2, 24638: 2, 25590: 2, 26413: 4, 1513: 6, 13543: 4, 13634: 8, 11903: 6, 3408: 2, 14378: 2, 19835: 2, 14881: 4, 15023: 2, 14829: 4, 14694: 2, 14905: 8, 14565: 8, 13623: 2, 15026: 4, 17154: 4, 16154: 2, 15305: 2, 14626: 4, 14566: 2, 14720: 6, 13947: 8, 13863: 2, 17260: 2, 14523: 2, 14112: 2, 13972: 4, 14426: 2, 15372: 4, 17559: 4, 16278: 2, 657: 4, 204: 2, 5160: 2, 2478: 2, 1267: 2, 3680: 6, 765: 12, 915: 2, 1119: 2, 3925: 2, 1771: 14, 929: 2, 471: 2, 3155: 2, 3577: 2, 5194: 4, 3896: 4, 793: 2, 1782: 2, 2104: 14, 1991: 2, 3655: 2, 2427: 4, 1599: 4, 1786: 2, 738: 8, 1756: 4, 4960: 2, 5093: 2, 7211: 10, 7007: 2, 7735: 4, 7266: 2, 9898: 10, 7961: 4, 7534: 2, 7537: 2, 9673: 4, 8232: 4, 7089: 2, 7508: 4, 6849: 2, 7572: 10, 7906: 2, 6543: 4, 7342: 16, 7885: 2, 7925: 2, 7787: 8, 7807: 4, 6674: 4, 7714: 2, 7621: 6, 7901: 4, 10841: 8, 7528: 2, 7331: 2, 7643: 4, 7126: 4, 7607: 4, 7612: 4, 7571: 4, 7863: 4, 7800: 4, 7552: 4, 7886: 2, 6840: 2, 7981: 8, 6745: 2, 9164: 2, 9258: 8, 9817: 4, 9195: 8, 8755: 2, 9459: 6, 9109: 6, 9700: 8, 9406: 6, 9618: 6, 9379: 14, 11981: 4, 9862: 2, 11844: 2, 11079: 10, 10153: 2, 11826: 2, 10284: 8, 10346: 10, 11952: 2, 11088: 8, 9209: 6, 11023: 4, 10826: 2, 9141: 12, 11581: 2, 11144: 4, 10832: 20, 10957: 4, 10846: 2, 23386: 8, 22781: 2, 23572: 4, 23660: 2, 24247: 2, 24058: 2, 25010: 2, 25832: 4, 969: 4, 12963: 8, 13054: 6, 11322: 2, 14130: 4, 3178: 8, 13798: 2, 19255: 2, 14301: 2, 14443: 2, 14249: 4, 14114: 4, 14325: 4, 13985: 8, 13781: 4, 13043: 8, 14445: 6, 16574: 4, 15574: 2, 14725: 2, 14045: 2, 14140: 6, 13367: 4, 13283: 4, 16679: 2, 13943: 2, 13690: 2, 13532: 6, 13392: 4, 13846: 8, 16979: 4, 15698: 4, 12961: 12, 453: 2, 5664: 2, 2961: 6, 2719: 4, 1963: 4, 4295: 2, 1016: 4, 1356: 6, 1813: 6, 4540: 2, 2466: 2, 1624: 2, 1203: 4, 3853: 2, 4193: 2, 5323: 2, 4511: 2, 1489: 4, 2683: 2, 2799: 12, 2684: 4, 2893: 2, 4271: 4, 3328: 4, 2295: 2, 1434: 6, 2197: 2, 4473: 2, 5249: 4, 6748: 6, 6544: 4, 7271: 2, 6802: 4, 9435: 6, 7498: 2, 7071: 2, 7073: 4, 9210: 4, 6625: 4, 7044: 20, 6385: 2, 7108: 4, 7442: 8, 6080: 2, 6878: 2, 7422: 6, 7462: 2, 7324: 6, 7344: 2, 6211: 2, 7250: 2, 7158: 4, 7438: 4, 7065: 4, 6868: 8, 7179: 2, 6663: 2, 7143: 2, 8003: 6, 7148: 6, 7291: 2, 7400: 10, 7336: 2, 7088: 2, 6377: 2, 6282: 2, 9331: 6, 9415: 4, 9351: 2, 9578: 16, 9468: 4, 8911: 4, 9615: 4, 9266: 8, 9856: 2, 9562: 6, 9775: 8, 9223: 8, 11824: 8, 9705: 2, 11687: 2, 10704: 4, 9997: 8, 11669: 2, 10127: 10, 10189: 14, 10931: 4, 9366: 8, 10866: 4, 9298: 6, 11425: 6, 10987: 2, 10675: 4, 10800: 2, 11104: 6, 10689: 8, 9413: 6, 22922: 8, 22318: 2, 23109: 2, 23197: 2, 23784: 2, 23595: 2, 24546: 2, 25369: 4, 896: 4, 12500: 4, 12591: 2, 10859: 2, 13666: 2, 3874: 4, 13334: 4, 18792: 2, 13979: 2, 13785: 4, 13650: 4, 13521: 6, 13317: 2, 12580: 2, 13982: 2, 16110: 4, 15110: 6, 14261: 2, 13582: 2, 13522: 8, 13676: 2, 12903: 4, 12820: 2, 16216: 2, 13479: 6, 13069: 2, 13382: 6, 14328: 2, 16515: 2, 15235: 2, 12498: 6, 5905: 2, 2508: 4, 1508: 30, 4165: 2, 561: 2, 1358: 6, 4410: 2, 2012: 4, 650: 2, 3723: 4, 5193: 2, 4381: 4, 1034: 4, 2000: 2, 2345: 14, 2230: 16, 2209: 2, 4140: 4, 2645: 2, 1841: 2, 2027: 4, 979: 6, 1979: 2, 4756: 4, 5031: 2, 6839: 2, 7567: 2, 7098: 2, 9731: 10, 7793: 2, 7367: 4, 7369: 4, 9506: 2, 8064: 4, 6921: 14, 7340: 2, 6681: 2, 7404: 2, 7738: 10, 6375: 2, 7174: 4, 7717: 4, 7757: 4, 7619: 2, 7640: 8, 6506: 2, 7546: 4, 7454: 8, 7734: 8, 10673: 4, 7361: 2, 7164: 2, 7475: 12, 6959: 2, 7439: 6, 8299: 10, 7444: 6, 7403: 4, 7632: 4, 7384: 2, 7718: 4, 6672: 2, 7813: 2, 6577: 2, 9113: 4, 9102: 2, 9175: 10, 9197: 2, 9756: 8, 9133: 2, 9360: 2, 9250: 8, 8693: 4, 9397: 4, 9048: 6, 9638: 10, 9344: 2, 9518: 2, 12120: 4, 11253: 4, 10001: 2, 11983: 2, 11218: 2, 10292: 8, 11965: 2, 10423: 12, 10485: 12, 12091: 4, 11227: 4, 9148: 6, 11162: 8, 10965: 4, 11720: 12, 11283: 4, 10971: 8, 11096: 4, 10985: 4, 23218: 8, 22613: 4, 23405: 2, 23493: 2, 24080: 2, 23891: 2, 24842: 2, 25665: 4, 12795: 2, 12887: 2, 11155: 2, 13962: 2, 3419: 2, 13630: 2, 19088: 2, 14134: 2, 14275: 4, 14081: 4, 12886: 6, 13946: 2, 14157: 4, 13817: 8, 13613: 2, 12876: 4, 14278: 6, 16406: 4, 15406: 2, 14557: 2, 13878: 2, 13818: 4, 13199: 6, 13115: 2, 16512: 2, 13775: 2, 13365: 2, 13224: 2, 13678: 2, 14624: 2, 16811: 2, 12793: 8, 7627: 4, 6646: 2, 6752: 2, 8302: 4, 5805: 4, 6602: 2, 8547: 4, 7255: 2, 6413: 2, 5492: 2, 8966: 2, 9508: 10, 8518: 8, 6278: 2, 5666: 2, 6726: 12, 6611: 4, 5465: 12, 8278: 4, 5073: 2, 6408: 4, 6223: 4, 5195: 2, 8759: 4, 25: 2, 8739: 8, 8362: 2, 9509: 6, 11396: 10, 8353: 6, 9275: 2, 9273: 6, 10084: 4, 8204: 4, 9486: 4, 7898: 4, 8869: 16, 8959: 2, 8881: 2, 8029: 6, 9188: 4, 9676: 6, 11251: 6, 9281: 2, 8962: 2, 8035: 6, 8481: 4, 9203: 2, 8859: 8, 9198: 4, 9529: 10, 9239: 4, 9313: 14, 9660: 2, 8195: 10, 9755: 16, 4187: 2, 4176: 4, 4249: 2, 4829: 2, 4207: 4, 4434: 2, 4324: 4, 3767: 12, 4471: 6, 4121: 6, 4712: 2, 4418: 6, 4631: 2, 7985: 10, 7027: 4, 7596: 2, 7762: 2, 7477: 4, 9008: 8, 8927: 8, 7458: 2, 7327: 2, 7741: 4, 4222: 2, 7857: 2, 9043: 6, 4153: 2, 7610: 2, 8992: 2, 9037: 10, 9202: 6, 7744: 4, 8694: 10, 4269: 2, 18552: 8, 19089: 2, 17255: 4, 16848: 4, 17929: 4, 17740: 2, 17311: 4, 20999: 4, 6009: 6, 13373: 4, 13464: 8, 11733: 4, 14540: 2, 7492: 4, 14208: 4, 19665: 6, 14711: 8, 14853: 4, 14524: 6, 14735: 4, 14395: 6, 14191: 2, 13453: 2, 16984: 4, 15984: 4, 15135: 4, 14455: 2, 14396: 2, 14550: 8, 13777: 6, 13693: 4, 15176: 2, 14353: 2, 14100: 2, 13942: 2, 13802: 2, 14256: 2, 15202: 4, 16108: 2, 13371: 4, 2543: 4, 2773: 2, 1480: 4, 803: 2, 1742: 4, 2948: 2, 957: 2, 1296: 6, 1615: 2, 2138: 4, 374: 12, 489: 6, 2063: 6, 1374: 2, 2499: 2, 795: 4, 692: 6, 2083: 4, 3024: 6, 5935: 2, 7560: 4, 9551: 8, 9347: 2, 10075: 2, 9606: 4, 11641: 4, 10301: 2, 9874: 6, 9877: 2, 12013: 2, 10572: 4, 9848: 6, 9189: 2, 9912: 6, 8883: 4, 9682: 2, 10225: 16, 10265: 12, 10147: 6, 10054: 2, 10241: 4, 13180: 2, 9868: 4, 9671: 2, 9466: 8, 9946: 16, 10806: 6, 9952: 8, 10094: 20, 9911: 8, 10203: 6, 10140: 6, 9891: 18, 10226: 6, 9180: 2, 10320: 4, 9085: 4, 10564: 8, 10626: 10, 10647: 12, 11206: 4, 10584: 4, 10811: 8, 10701: 6, 10848: 4, 11089: 4, 10795: 4, 11846: 4, 13404: 2, 13581: 2, 12329: 4, 14311: 6, 13328: 6, 13546: 2, 12620: 2, 12751: 4, 13704: 6, 13555: 6, 10599: 6, 13490: 2, 13293: 4, 10530: 2, 14048: 2, 13611: 10, 13299: 10, 13424: 6, 13728: 2, 13313: 4, 10646: 2, 25726: 8, 25121: 2, 25912: 2, 26000: 2, 26587: 2, 26398: 2, 27350: 2, 28172: 4, 3273: 6, 15303: 2, 13662: 2, 16470: 2, 2604: 6, 16138: 4, 21595: 2, 16641: 12, 16783: 4, 16588: 4, 16453: 2, 16664: 2, 16325: 8, 16121: 2, 15383: 6, 16785: 2, 18914: 4, 17914: 2, 17065: 4, 16385: 6, 16480: 4, 15707: 4, 15623: 2, 19019: 2, 16283: 2, 16030: 2, 15872: 6, 15732: 2, 16185: 2, 17132: 4, 19318: 2, 18038: 2, 15301: 4, 1643: 4, 2381: 2, 947: 16, 903: 4, 2814: 2, 1156: 6, 487: 6, 2279: 2, 2127: 6, 2467: 2, 3597: 4, 2785: 2, 603: 6, 1910: 6, 1062: 10, 2119: 2, 2545: 10, 2555: 4, 995: 6, 1176: 4, 548: 2, 2781: 4, 6078: 2, 6891: 8, 8834: 8, 9358: 10, 8889: 2, 11521: 14, 9584: 4, 9157: 2, 9160: 6, 11296: 2, 9855: 8, 8712: 6, 9131: 4, 8472: 2, 8166: 24, 8965: 6, 9548: 2, 9410: 4, 9430: 2, 8297: 6, 9337: 2, 9244: 12, 12463: 2, 8954: 6, 8749: 4, 9230: 14, 10089: 10, 9235: 2, 9378: 4, 9194: 4, 9423: 6, 8463: 2, 9603: 4, 8368: 4, 10972: 6, 10962: 2, 11035: 8, 11056: 6, 11615: 2, 11220: 4, 11257: 6, 10907: 6, 11498: 4, 11204: 2, 11416: 2, 13910: 2, 11791: 8, 13774: 2, 12791: 2, 13009: 2, 12083: 2, 13755: 2, 12213: 4, 12276: 14, 13882: 2, 13018: 4, 11007: 4, 12755: 4, 10939: 2, 13074: 2, 12761: 4, 13191: 2, 12776: 4, 11054: 2, 25009: 8, 24404: 2, 25195: 2, 25283: 2, 25870: 2, 25681: 2, 26633: 2, 14586: 4, 14677: 8, 12945: 2, 15753: 4, 2653: 2, 15421: 2, 20878: 2, 15924: 2, 16066: 6, 15737: 4, 15948: 2, 15608: 8, 15404: 6, 14666: 4, 16068: 2, 18197: 6, 17197: 2, 16348: 2, 15668: 2, 15763: 2, 14990: 6, 14906: 2, 18302: 2, 15566: 2, 15313: 2, 15155: 2, 15015: 6, 15468: 4, 16415: 8, 18601: 2, 17321: 4, 14584: 2, 3746: 6, 2844: 2, 510: 2, 1992: 8, 3921: 4, 974: 4, 668: 2, 1276: 2, 464: 6, 3157: 6, 2827: 2, 1563: 14, 1678: 4, 3036: 2, 241: 2, 3472: 2, 1984: 4, 1881: 2, 3102: 4, 3997: 2, 8533: 10, 9322: 6, 10188: 2, 10916: 6, 10447: 4, 11511: 8, 11142: 4, 10718: 2, 12855: 4, 11413: 4, 10270: 2, 10030: 8, 10753: 10, 11087: 2, 9724: 6, 10523: 4, 11066: 2, 11106: 6, 10989: 2, 10895: 4, 10803: 4, 11083: 6, 14022: 2, 10710: 4, 10513: 6, 10824: 6, 10308: 4, 10788: 2, 11647: 2, 10793: 4, 10936: 4, 11045: 12, 10981: 2, 10733: 2, 11067: 2, 10021: 6, 9926: 8, 11537: 4, 11526: 4, 11599: 8, 11620: 8, 12179: 2, 11557: 6, 11117: 8, 12062: 4, 11768: 2, 12867: 4, 14377: 2, 13349: 8, 15332: 2, 14349: 2, 14567: 2, 13641: 2, 15314: 2, 13772: 4, 13834: 10, 14576: 4, 11572: 6, 14511: 2, 14314: 2, 11504: 4, 15069: 10, 14632: 2, 14320: 4, 14444: 2, 14749: 6, 14334: 2, 11619: 4, 26567: 8, 25962: 2, 26754: 2, 26842: 2, 27428: 2, 27239: 2, 28191: 2, 29014: 4, 4254: 4, 16144: 4, 14504: 2, 2887: 2, 22436: 2, 17482: 2, 17624: 4, 17430: 4, 17295: 4, 17506: 2, 17166: 6, 16962: 6, 16224: 4, 17627: 4, 19755: 4, 18755: 2, 17906: 4, 17167: 12, 16548: 6, 16464: 2, 19861: 2, 17124: 2, 16871: 2, 16713: 2, 16573: 2, 17027: 2, 17973: 2, 20160: 2, 18879: 2, 16142: 6, 1010: 2, 797: 2, 3604: 2, 1451: 4, 608: 2, 1141: 2, 3114: 4, 3257: 4, 4874: 2, 3575: 4, 473: 2, 1667: 2, 1668: 8, 1877: 2, 3335: 2, 1279: 2, 1465: 6, 418: 4, 1687: 2, 5973: 2, 5753: 2, 7954: 6, 7750: 2, 8478: 2, 8009: 6, 10641: 8, 8704: 4, 8277: 6, 8280: 6, 10416: 6, 8975: 8, 8251: 2, 7592: 4, 8649: 6, 8668: 2, 8530: 2, 8550: 8, 7417: 2, 8457: 2, 8364: 8, 8644: 4, 11584: 2, 8271: 4, 8074: 4, 8386: 2, 7869: 2, 8350: 2, 8498: 8, 8314: 4, 8606: 4, 8543: 4, 8295: 4, 8629: 2, 7583: 10, 8723: 8, 7488: 2, 9835: 2, 9824: 4, 9918: 4, 10477: 2, 10082: 10, 9972: 4, 10119: 4, 9769: 4, 10360: 6, 10066: 8, 10279: 14, 10429: 4, 13030: 14, 12163: 2, 10911: 2, 11911: 6, 12129: 2, 11203: 6, 12875: 2, 11333: 4, 13002: 2, 12138: 4, 9870: 6, 12072: 4, 11875: 4, 9802: 8, 12631: 2, 12194: 6, 11881: 6, 12006: 2, 12311: 4, 11896: 2, 24129: 8, 23524: 2, 24315: 10, 24403: 2, 24990: 2, 24801: 2, 25753: 2, 26575: 4, 1676: 8, 13706: 2, 13797: 8, 12065: 2, 2858: 2, 14541: 2, 19998: 2, 15044: 4, 15186: 4, 14992: 4, 14857: 2, 15068: 2, 14728: 12, 13786: 2, 15188: 2, 17317: 4, 16317: 2, 14788: 2, 14883: 2, 14110: 6, 14026: 4, 17422: 6, 14686: 2, 14433: 4, 14135: 2, 14588: 2, 15535: 2, 17721: 2, 16441: 4, 2446: 2, 1213: 8, 494: 2, 3439: 4, 3862: 2, 5479: 2, 4180: 4, 1078: 8, 1376: 4, 2388: 14, 2273: 4, 1585: 6, 3940: 2, 1686: 2, 1884: 2, 2070: 4, 841: 2, 5699: 2, 4760: 2, 6879: 6, 7402: 2, 6933: 2, 9566: 2, 7628: 8, 7202: 2, 7204: 4, 9341: 4, 7899: 8, 6756: 2, 7175: 2, 6516: 2, 7239: 2, 7573: 6, 6210: 2, 7009: 2, 6341: 4, 7381: 2, 7289: 4, 7569: 2, 10508: 8, 7196: 6, 6999: 8, 6794: 4, 7274: 6, 8133: 6, 7279: 2, 7238: 2, 7531: 2, 7467: 4, 7219: 2, 7553: 2, 6507: 2, 7648: 6, 6412: 4, 8904: 14, 8925: 2, 8862: 4, 9089: 2, 8422: 2, 9126: 2, 8776: 6, 9367: 2, 9073: 4, 9047: 2, 10528: 2, 10746: 20, 9821: 2, 11493: 2, 9951: 12, 10013: 8, 10755: 14, 8877: 2, 10493: 8, 8809: 6, 11249: 4, 10499: 6, 10624: 8, 10928: 6, 8924: 14, 23053: 8, 22448: 2, 23240: 2, 23328: 2, 23915: 2, 23725: 2, 24677: 2, 25500: 4, 1708: 4, 12630: 2, 12721: 14, 10990: 4, 3463: 2, 13465: 2, 18922: 2, 13969: 2, 13916: 4, 13992: 2, 13652: 6, 13448: 2, 12710: 6, 14113: 2, 16241: 4, 15241: 2, 14392: 2, 13713: 2, 13653: 2, 13807: 2, 13034: 8, 16347: 4, 13610: 2, 13357: 2, 13059: 2, 13513: 2, 14459: 4, 16646: 2, 15365: 2, 12628: 2, 3304: 2, 1003: 4, 2245: 2, 2584: 2, 3715: 2, 2903: 2, 867: 4, 2068: 2, 1854: 12, 2277: 2, 2662: 4, 2713: 2, 1674: 2, 1860: 4, 812: 4, 2087: 4, 5176: 6, 6197: 2, 8141: 6, 7936: 2, 10828: 2, 8890: 2, 8464: 2, 10603: 4, 9161: 10, 8018: 4, 8437: 2, 7778: 4, 8501: 2, 8835: 4, 7472: 2, 8854: 2, 8716: 4, 8737: 6, 7603: 2, 8643: 12, 8551: 4, 11770: 2, 8458: 4, 8261: 2, 8572: 2, 8536: 4, 8684: 2, 8500: 2, 8729: 6, 8815: 16, 7769: 6, 8910: 2, 10268: 6, 10363: 2, 10299: 8, 9859: 4, 10214: 4, 10804: 2, 10510: 4, 10723: 6, 10615: 4, 13217: 8, 12350: 2, 11098: 12, 13080: 2, 12097: 6, 12315: 2, 13062: 4, 11520: 4, 11582: 6, 13188: 8, 12324: 4, 10314: 4, 12259: 2, 12818: 4, 12380: 2, 12068: 4, 12193: 2, 12497: 4, 12082: 2, 10361: 4, 23710: 2, 24502: 4, 24590: 2, 25177: 2, 24988: 2, 25939: 2, 26762: 4, 13892: 2, 13984: 2, 12252: 6, 15059: 6, 3252: 2, 14727: 2, 20185: 2, 15231: 2, 15178: 10, 13983: 6, 15043: 8, 14914: 6, 13973: 2, 15375: 2, 17503: 6, 16503: 2, 15654: 2, 14975: 4, 14915: 2, 14296: 4, 14212: 2, 17609: 6, 14872: 2, 14619: 4, 14462: 2, 14321: 2, 14775: 2, 15721: 2, 17908: 2, 16627: 2, 13890: 2, 2447: 2, 3391: 2, 358: 2, 1645: 2, 833: 6, 3617: 2, 3287: 4, 2139: 4, 3496: 2, 338: 4, 3932: 4, 2444: 2, 2341: 2, 3562: 2, 4457: 2, 6265: 2, 8993: 2, 9783: 6, 10649: 2, 11376: 8, 11972: 2, 11603: 2, 11176: 12, 11178: 4, 13315: 2, 11873: 8, 10730: 6, 11149: 2, 10490: 8, 11213: 6, 11547: 2, 10983: 4, 11527: 6, 11567: 2, 11429: 6, 11449: 2, 10316: 4, 11355: 2, 11543: 10, 14482: 2, 11170: 6, 10973: 2, 11284: 2, 10768: 4, 11248: 6, 12108: 2, 11505: 2, 11441: 2, 11193: 2, 10482: 28, 11622: 2, 11997: 2, 11986: 2, 12060: 6, 12081: 2, 12640: 4, 12017: 2, 12134: 4, 11577: 4, 12282: 14, 11932: 8, 12522: 4, 12228: 8, 12441: 6, 14837: 6, 15062: 2, 13810: 2, 15792: 6, 14809: 4, 15027: 2, 14102: 2, 15774: 2, 14232: 4, 14294: 12, 15137: 2, 12032: 2, 14971: 2, 14774: 2, 11964: 4, 15092: 2, 14780: 6, 15209: 2, 14794: 2, 12079: 6, 27027: 8, 26423: 2, 27214: 2, 27302: 2, 27889: 2, 27700: 2, 28651: 2, 29474: 4, 4714: 6, 16605: 2, 16696: 2, 14964: 2, 17771: 2, 3347: 2, 17439: 2, 22897: 2, 17943: 2, 18084: 4, 17890: 6, 16695: 4, 17755: 2, 17966: 2, 17626: 6, 16685: 2, 18087: 2, 20215: 4, 19215: 2, 18366: 2, 17687: 4, 17781: 2, 17008: 4, 16925: 2, 20321: 2, 17584: 2, 17331: 10, 17174: 2, 17034: 2, 17487: 2, 18433: 2, 20620: 2, 19340: 2, 16603: 2, 991: 6, 2620: 2, 1760: 2, 2099: 2, 3230: 6, 2418: 2, 1186: 2, 1526: 4, 429: 20, 314: 8, 1735: 2, 2177: 2, 2171: 2, 166: 2, 364: 6, 1131: 4, 2696: 2, 6738: 2, 7232: 4, 9019: 8, 9747: 2, 9546: 14, 10244: 6, 9101: 2, 9520: 2, 8861: 2, 8555: 2, 9937: 12, 9799: 8, 9819: 2, 8686: 2, 9726: 2, 9633: 6, 12853: 4, 9541: 4, 9343: 10, 9139: 8, 9619: 2, 9624: 2, 9767: 4, 9583: 6, 9876: 2, 9812: 6, 9564: 14, 10236: 6, 10298: 2, 10256: 8, 10483: 14, 10373: 8, 10520: 4, 10171: 6, 10761: 4, 10467: 2, 10680: 4, 11519: 2, 13076: 2, 13253: 2, 12001: 4, 13000: 6, 13218: 2, 12293: 2, 13965: 2, 12485: 8, 13227: 6, 10271: 6, 13162: 4, 12965: 4, 13721: 4, 12971: 4, 13096: 2, 13400: 4, 12985: 8, 10318: 8, 25398: 8, 24793: 2, 25585: 2, 25673: 2, 26259: 2, 26070: 2, 27022: 2, 27844: 4, 2945: 4, 15066: 8, 2105: 2, 15810: 4, 21267: 2, 16313: 4, 16455: 2, 16261: 4, 16126: 2, 16337: 2, 15997: 8, 15793: 6, 15055: 2, 16457: 2, 18586: 4, 17586: 2, 16737: 6, 16057: 2, 16152: 6, 15379: 4, 15295: 2, 18691: 2, 15955: 2, 15702: 2, 15544: 2, 16804: 2, 18991: 2, 17710: 4, 14973: 4, 3020: 2, 4266: 2, 2967: 4, 665: 4, 1507: 2, 1175: 14, 1060: 4, 1716: 2, 2727: 2, 2152: 2, 671: 2, 857: 2, 610: 2, 2677: 2, 6913: 2, 6122: 2, 9200: 6, 8996: 2, 9723: 2, 11887: 4, 9950: 4, 9523: 4, 9525: 6, 11662: 2, 9077: 2, 9561: 2, 9895: 2, 8532: 2, 9330: 2, 9914: 4, 9776: 6, 9796: 8, 8663: 2, 9703: 6, 9610: 6, 9890: 4, 12829: 2, 9115: 2, 9595: 2, 10455: 8, 9601: 4, 9743: 8, 9560: 4, 9789: 2, 9540: 2, 9875: 6, 8829: 8, 9969: 4, 10212: 4, 10202: 6, 10275: 4, 10296: 4, 10855: 4, 10233: 2, 10460: 2, 10350: 6, 9793: 10, 10497: 4, 10738: 4, 10444: 4, 10657: 4, 11262: 6, 13053: 2, 12996: 8, 11744: 4, 13503: 8, 12743: 2, 13484: 2, 12970: 8, 10247: 2, 12905: 6, 10179: 16, 13027: 2, 12714: 6, 13144: 2, 12728: 2, 10295: 4, 25375: 8, 24770: 2, 25561: 2, 25649: 2, 26236: 2, 26047: 2, 23336: 2, 27821: 4, 2922: 4, 14952: 2, 13311: 4, 16118: 2, 2250: 2, 21244: 2, 16290: 14, 16431: 2, 16102: 2, 15973: 6, 15769: 2, 16434: 2, 18562: 4, 17563: 4, 16714: 2, 16034: 2, 15974: 2, 15356: 6, 15272: 2, 18668: 2, 15932: 2, 15679: 2, 15521: 2, 15381: 2, 15834: 2, 16780: 2, 18967: 2, 14950: 4, 4098: 2, 4024: 2, 5614: 4, 4315: 4, 2523: 12, 2408: 4, 1718: 4, 4075: 2, 2019: 4, 2205: 2, 1158: 2, 1335: 6, 5205: 2, 4607: 2, 6725: 6, 6521: 4, 7249: 2, 6780: 2, 9412: 8, 7048: 4, 7051: 4, 9187: 2, 7746: 12, 6603: 2, 7022: 2, 6363: 2, 7086: 8, 6057: 2, 6856: 8, 7399: 4, 7301: 4, 7321: 2, 6188: 2, 7228: 6, 7415: 10, 10354: 2, 7042: 4, 6845: 4, 7157: 2, 6640: 4, 7120: 10, 7980: 2, 7268: 2, 7085: 4, 7377: 4, 7314: 4, 6354: 2, 7494: 2, 6259: 2, 8688: 4, 8678: 8, 8751: 2, 8772: 4, 8708: 2, 8936: 4, 8826: 12, 8269: 4, 8973: 16, 8623: 8, 9214: 6, 8920: 14, 9132: 2, 11494: 2, 10628: 6, 9375: 4, 11358: 4, 10375: 2, 10593: 2, 9667: 4, 11339: 4, 9798: 6, 9860: 12, 11466: 2, 10602: 12, 10537: 4, 10339: 4, 8655: 4, 11095: 2, 10658: 4, 10470: 6, 10775: 2, 8770: 2, 22900: 8, 22295: 2, 23086: 2, 23174: 2, 23761: 2, 24524: 2, 25346: 4, 12477: 8, 12568: 8, 10836: 4, 13644: 2, 13312: 2, 18769: 2, 13815: 2, 13957: 4, 13762: 10, 13627: 2, 13295: 8, 12557: 2, 13959: 6, 16088: 6, 15088: 2, 14239: 2, 13559: 6, 13654: 4, 12881: 8, 12797: 2, 16193: 2, 13457: 4, 13204: 2, 13046: 2, 12906: 4, 13359: 2, 14306: 2, 16492: 2, 15212: 2, 12475: 2, 1077: 6, 1470: 6, 658: 8, 3246: 2, 3003: 2, 1652: 18, 1767: 4, 3213: 2, 3648: 2, 1970: 2, 3191: 2, 4173: 2, 5982: 2, 8710: 2, 9499: 6, 10365: 8, 11688: 2, 11319: 4, 10892: 6, 13031: 4, 11590: 4, 10207: 2, 10930: 4, 11264: 6, 11145: 6, 11165: 10, 10032: 4, 10979: 4, 11259: 2, 14198: 2, 10886: 2, 11001: 6, 10484: 2, 10964: 2, 10970: 4, 10929: 2, 11221: 2, 11158: 2, 10909: 2, 11244: 2, 10198: 30, 11338: 8, 10103: 4, 11713: 4, 11703: 8, 11776: 4, 11797: 6, 11961: 2, 11294: 2, 11998: 2, 11945: 4, 12157: 2, 13044: 4, 14554: 4, 14778: 4, 15509: 4, 14526: 2, 14744: 2, 15490: 2, 13948: 4, 14010: 6, 14854: 2, 14753: 12, 11748: 4, 14687: 6, 14490: 2, 11680: 2, 15246: 2, 14496: 4, 14621: 2, 14926: 4, 14510: 2, 26744: 8, 26139: 2, 26930: 2, 27018: 2, 27605: 2, 27416: 2, 28368: 2, 29190: 4, 4431: 4, 16321: 2, 16412: 6, 14680: 2, 17488: 4, 3064: 2, 17156: 2, 17659: 2, 17801: 2, 17606: 4, 17471: 8, 17682: 2, 17343: 8, 17139: 4, 16401: 2, 17803: 2, 19932: 4, 18932: 2, 18083: 2, 17403: 4, 17498: 2, 16725: 4, 20037: 2, 17301: 2, 17048: 4, 16890: 2, 16750: 2, 17203: 2, 18150: 2, 20336: 2, 19056: 2, 16319: 4, 1379: 4, 567: 6, 3260: 2, 2929: 2, 1666: 12, 1781: 4, 3139: 2, 344: 10, 2086: 2, 3204: 2, 4100: 2, 5908: 2, 8636: 2, 9425: 6, 10291: 2, 11019: 2, 11614: 4, 11245: 4, 10818: 4, 10821: 4, 12957: 6, 11516: 4, 10792: 6, 10133: 4, 10856: 12, 11190: 4, 9827: 8, 11071: 4, 11091: 6, 9958: 4, 10998: 6, 10905: 6, 11185: 6, 14125: 2, 10812: 4, 10891: 6, 11750: 2, 10896: 2, 11039: 4, 11147: 4, 11084: 2, 10124: 28, 11265: 2, 10029: 2, 11639: 14, 11629: 2, 11702: 2, 11723: 4, 11660: 12, 11777: 4, 11924: 2, 11574: 6, 12165: 4, 12084: 2, 14480: 2, 14704: 2, 13452: 2, 15435: 2, 14452: 2, 14670: 2, 13744: 4, 15416: 2, 13874: 4, 13937: 18, 14679: 6, 14613: 2, 14416: 2, 11606: 10, 15172: 2, 14422: 4, 14547: 2, 14852: 2, 14437: 2, 11722: 2, 26670: 8, 26065: 2, 26856: 2, 26944: 2, 27531: 2, 27342: 2, 28294: 2, 29116: 4, 4357: 4, 16247: 4, 16338: 6, 14606: 2, 17414: 2, 2990: 2, 22539: 2, 17585: 2, 17727: 4, 17398: 2, 17269: 10, 16327: 2, 17729: 2, 19858: 4, 18858: 4, 18009: 4, 17329: 4, 17424: 6, 16651: 4, 16567: 6, 19963: 2, 16974: 2, 16816: 12, 16676: 2, 17129: 2, 18076: 2, 20263: 2, 18982: 4, 16245: 2, 4401: 2, 4077: 2, 2798: 14, 2914: 8, 1476: 2, 4707: 4, 3219: 2, 3117: 2, 4337: 6, 5232: 4, 7041: 2, 9768: 2, 10558: 8, 11424: 6, 11683: 6, 12747: 4, 12378: 6, 11951: 2, 14090: 2, 12649: 6, 11506: 6, 11925: 2, 11266: 4, 11989: 2, 12323: 14, 10960: 12, 11758: 2, 12302: 2, 12342: 2, 12204: 4, 12224: 4, 12038: 4, 12318: 2, 15257: 2, 12023: 4, 12883: 2, 12029: 2, 12171: 4, 11988: 2, 12280: 2, 12217: 10, 12303: 8, 12397: 2, 12407: 4, 12396: 2, 12469: 12, 12490: 2, 13049: 2, 12427: 8, 12654: 6, 11987: 4, 12691: 6, 12341: 4, 12932: 2, 12638: 6, 12851: 2, 15247: 6, 15837: 2, 14585: 4, 15584: 2, 15802: 4, 14877: 2, 16549: 2, 15007: 4, 15811: 16, 15746: 2, 15549: 2, 12373: 2, 16305: 6, 15868: 2, 15555: 4, 15680: 2, 15985: 10, 15569: 6, 27803: 8, 27198: 2, 27989: 2, 28077: 2, 28664: 2, 28475: 2, 29426: 2, 30249: 4, 5489: 4, 17380: 2, 15739: 2, 18547: 2, 2626: 2, 18215: 2, 23672: 2, 18718: 2, 18859: 4, 18665: 6, 18530: 6, 18741: 2, 18401: 6, 17460: 4, 18862: 2, 20991: 4, 19991: 2, 19142: 2, 18462: 2, 18402: 2, 18557: 2, 17784: 6, 17700: 2, 21096: 2, 18360: 2, 18107: 2, 17949: 2, 17809: 2, 18262: 4, 19208: 2, 21395: 2, 20115: 2, 17378: 2, 3459: 2, 664: 2, 3895: 2, 2407: 2, 2304: 6, 3525: 2, 4420: 2, 6229: 2, 8956: 4, 10612: 6, 10871: 8, 11935: 2, 11566: 8, 11139: 2, 11141: 6, 13278: 2, 11837: 4, 10693: 4, 11113: 14, 10453: 8, 10946: 4, 11490: 6, 11530: 4, 11412: 2, 11318: 6, 11226: 6, 10731: 6, 11211: 2, 12071: 8, 11217: 4, 11359: 2, 11468: 2, 11405: 6, 11156: 6, 11491: 4, 10445: 2, 11585: 10, 11960: 2, 11949: 6, 12044: 2, 12603: 2, 11980: 2, 12207: 2, 11540: 4, 12245: 4, 11895: 4, 12404: 10, 13291: 4, 14801: 2, 15025: 2, 13773: 6, 15755: 2, 14772: 2, 14065: 2, 14195: 4, 14257: 6, 15100: 2, 14999: 4, 11995: 2, 14934: 2, 14737: 2, 11927: 2, 15056: 2, 14743: 4, 14868: 2, 15173: 4, 14757: 6, 12042: 4, 26991: 8, 26386: 2, 27177: 2, 27265: 2, 27852: 2, 27663: 2, 28614: 2, 29437: 4, 4677: 6, 16568: 2, 16659: 8, 14927: 14, 17734: 2, 2676: 4, 22860: 2, 18047: 2, 17853: 4, 17718: 2, 17589: 6, 17385: 2, 18050: 4, 20178: 4, 19178: 2, 18330: 2, 17650: 2, 17590: 2, 17745: 2, 16972: 4, 16888: 10, 20284: 2, 17548: 2, 17137: 4, 16997: 2, 17450: 2, 18396: 2, 20583: 2, 19303: 2, 16566: 10, 1310: 12, 1195: 4, 1851: 2, 2287: 2, 806: 10, 992: 2, 366: 6, 2812: 2, 6258: 2, 9335: 10, 9390: 16, 12022: 2, 10085: 6, 9658: 8, 9661: 2, 9213: 2, 9696: 4, 8667: 6, 10009: 16, 10049: 2, 9931: 6, 8798: 6, 9838: 6, 9745: 6, 10025: 2, 9652: 2, 9455: 8, 10590: 2, 9736: 6, 9879: 6, 9695: 4, 9924: 4, 10010: 2, 8964: 2, 10105: 2, 10348: 4, 10337: 6, 10431: 6, 10368: 2, 10595: 4, 9928: 6, 10632: 2, 10282: 6, 10873: 2, 10579: 8, 11397: 2, 13131: 2, 11879: 2, 13638: 2, 12879: 2, 13097: 2, 13620: 2, 12364: 6, 13488: 2, 13106: 4, 10383: 2, 13040: 2, 12843: 2, 10315: 2, 13599: 2, 12849: 4, 12974: 6, 13279: 4, 12864: 2, 10430: 4, 25510: 8, 24905: 2, 25696: 2, 25784: 2, 26371: 2, 26182: 2, 23472: 2, 27956: 4, 3057: 4, 15087: 2, 13446: 4, 16254: 2, 2385: 6, 15922: 2, 21379: 2, 16425: 4, 16373: 6, 16238: 2, 16449: 4, 16109: 8, 15905: 2, 15167: 2, 16569: 2, 18698: 4, 17698: 2, 16849: 4, 16264: 2, 15491: 4, 15407: 2, 18803: 2, 16067: 2, 15814: 2, 15656: 14, 15516: 2, 15969: 2, 16916: 2, 19103: 2, 17822: 2, 15085: 2, 1473: 12, 286: 4, 3025: 2, 645: 2, 1511: 2, 1155: 2, 1696: 2, 1283: 6, 6737: 2, 5946: 2, 7992: 8, 8516: 4, 8047: 6, 10679: 2, 8742: 10, 8318: 2, 10454: 8, 9013: 18, 8289: 2, 7630: 8, 8687: 4, 8122: 6, 8666: 4, 8706: 2, 8568: 2, 8588: 2, 7455: 2, 8495: 6, 8402: 10, 8682: 2, 11621: 6, 8309: 6, 8112: 2, 8424: 2, 7907: 4, 8387: 4, 9247: 6, 8393: 8, 8535: 6, 8352: 2, 8581: 2, 8332: 2, 8761: 10, 7526: 4, 9211: 2, 9201: 2, 9274: 2, 9854: 4, 9231: 2, 8792: 4, 9146: 4, 9737: 2, 9443: 4, 10154: 2, 12052: 2, 11888: 2, 10636: 6, 12619: 4, 11636: 4, 11854: 4, 12600: 4, 11058: 6, 11121: 12, 12352: 2, 11863: 6, 9246: 4, 11600: 4, 9178: 2, 11919: 6, 11731: 2, 24167: 8, 23562: 2, 24353: 2, 24441: 2, 25028: 2, 24839: 2, 22335: 2, 26613: 4, 2746: 4, 13835: 6, 12103: 2, 14911: 2, 2551: 2, 14579: 2, 20036: 2, 15082: 4, 15224: 2, 15029: 4, 14894: 6, 15105: 2, 14766: 8, 13824: 2, 15226: 8, 17355: 4, 16355: 2, 15506: 2, 14826: 4, 14921: 2, 14148: 4, 14064: 2, 14724: 2, 14313: 2, 14173: 2, 15573: 2, 17759: 2, 16479: 2, 13742: 2, 115: 26, 1689: 12, 1748: 8, 421: 14, 318: 16, 2650: 12, 6309: 14, 7186: 12, 9177: 38, 9701: 12, 9232: 20, 11864: 12, 9927: 20, 9500: 18, 9503: 12, 9055: 14, 9474: 16, 9538: 14, 9872: 14, 9851: 14, 9753: 18, 9773: 14, 9680: 12, 9587: 24, 12806: 12, 9494: 14, 9297: 14, 9609: 18, 9092: 14, 9572: 12, 9720: 12, 9537: 18, 9829: 14, 8806: 16, 8711: 14, 10190: 14, 10252: 12, 10273: 14, 10210: 12, 10437: 14, 10327: 24, 10715: 12, 10421: 12, 11472: 16, 13207: 12, 11955: 12, 12954: 18, 13172: 14, 13919: 12, 12377: 24, 12439: 36, 13330: 14, 13181: 24, 13116: 12, 12919: 16, 10156: 20, 13674: 12, 13237: 20, 13050: 12, 13354: 12, 12939: 12, 10272: 12, 25352: 48, 24747: 12, 25538: 12, 25626: 12, 26213: 12, 26024: 12, 26976: 12, 27798: 24, 2899: 24, 15020: 36, 13288: 18, 16096: 14, 15764: 12, 21221: 12, 16267: 12, 16409: 12, 16214: 24, 16079: 12, 15951: 48, 15747: 14, 15009: 12, 16411: 12, 18540: 24, 17540: 12, 16691: 12, 16011: 12, 16106: 16, 15333: 24, 15249: 12, 18645: 12, 15909: 12, 15498: 14, 15358: 12, 16758: 24, 18944: 12, 17664: 12, 1864: 2, 305: 8, 203: 4, 1392: 4, 2534: 4, 6424: 4, 7070: 6, 9062: 12, 8857: 10, 9585: 8, 9116: 6, 11749: 4, 9385: 4, 9387: 14, 11524: 4, 8939: 6, 8699: 10, 9192: 8, 9735: 4, 8525: 6, 9472: 10, 9182: 6, 9493: 10, 10317: 4, 9402: 12, 8691: 6, 9831: 8, 8596: 4, 10074: 12, 10064: 14, 10137: 4, 10158: 4, 10717: 4, 10321: 6, 10211: 10, 10359: 4, 10600: 8, 10306: 12, 10518: 8, 12915: 4, 13091: 4, 11839: 6, 13822: 4, 13057: 8, 13803: 10, 13066: 8, 12803: 8, 10041: 4, 13122: 6, 12809: 10, 12934: 8, 13239: 4, 12823: 8, 25236: 16, 24632: 4, 25423: 4, 25511: 4, 26098: 4, 25909: 4, 26860: 4, 27683: 8, 2783: 8, 14813: 4, 13173: 4, 15980: 4, 2115: 6, 21106: 4, 16293: 6, 16099: 8, 14904: 8, 15964: 4, 16175: 4, 15835: 12, 15631: 4, 16296: 4, 18424: 8, 15896: 8, 15836: 4, 15990: 6, 15217: 8, 15133: 6, 15540: 4, 15243: 4, 15696: 4, 16642: 6, 18829: 4, 17549: 4, 14812: 4, 1352: 6, 2215: 8, 3688: 2, 535: 6, 1390: 2, 1237: 2, 1914: 6, 1217: 8, 6947: 2, 5880: 4, 8210: 6, 8005: 4, 8733: 2, 8264: 2, 10897: 4, 8960: 10, 10672: 6, 8087: 4, 8506: 4, 7847: 8, 8570: 6, 7541: 2, 8340: 6, 8786: 2, 7673: 2, 8620: 6, 8900: 2, 8527: 4, 8330: 12, 8641: 2, 8125: 8, 8605: 8, 9465: 4, 8610: 4, 8753: 2, 8884: 4, 7839: 2, 9226: 2, 9215: 8, 9288: 2, 9473: 4, 9510: 4, 9670: 2, 10372: 4, 12066: 12, 12106: 2, 10854: 4, 12516: 2, 11853: 2, 11146: 6, 11276: 4, 12366: 2, 12080: 4, 9261: 12, 12015: 4, 11818: 4, 12137: 2, 12254: 2, 11838: 2, 24384: 8, 23780: 2, 24571: 2, 24659: 2, 25246: 2, 25057: 2, 22350: 2, 26831: 4, 2956: 4, 13961: 2, 14053: 2, 12321: 4, 15128: 2, 2546: 2, 14796: 2, 20254: 2, 15300: 2, 15441: 2, 14052: 4, 15112: 2, 15323: 2, 14983: 6, 14779: 4, 14042: 2, 15444: 2, 17572: 4, 16572: 2, 15723: 2, 14984: 2, 15138: 2, 14365: 4, 14281: 2, 17678: 2, 14941: 2, 14391: 4, 14844: 2, 15790: 2, 17977: 2, 16697: 2, 13960: 4, 4124: 2, 2636: 2, 2331: 2, 2533: 2, 3754: 4, 4649: 6, 6458: 2, 9185: 4, 9975: 6, 11100: 2, 12242: 2, 11368: 2, 11370: 2, 13507: 2, 11342: 2, 10682: 2, 11740: 2, 11175: 4, 11719: 2, 11759: 2, 11455: 8, 11735: 2, 14674: 2, 11362: 4, 11477: 6, 12300: 2, 11446: 4, 11588: 2, 11697: 2, 11634: 2, 11385: 2, 11814: 2, 12189: 2, 12178: 2, 12273: 2, 12832: 2, 12209: 4, 12436: 2, 12326: 4, 11769: 2, 12474: 2, 12124: 4, 12421: 2, 12633: 2, 13520: 2, 15030: 2, 14002: 2, 15001: 2, 15219: 2, 15966: 4, 14424: 4, 14486: 8, 15329: 2, 15228: 4, 15163: 4, 14966: 2, 12156: 2, 15722: 2, 15285: 2, 14972: 4, 15097: 2, 15402: 2, 14986: 2, 12271: 4, 27220: 8, 26615: 2, 27406: 2, 27494: 2, 28081: 2, 27892: 2, 28843: 2, 29666: 4, 4906: 8, 16797: 2, 15156: 2, 17963: 2, 3702: 2, 17632: 2, 23089: 2, 18135: 2, 18276: 2, 17947: 2, 18158: 2, 17818: 6, 17614: 2, 16877: 6, 18279: 4, 20407: 4, 19408: 2, 18559: 2, 17879: 2, 17819: 6, 17974: 2, 17201: 6, 17117: 2, 20513: 2, 17777: 2, 17524: 2, 17366: 2, 17226: 2, 17679: 2, 18625: 2, 20812: 2, 19532: 2, 16795: 2, 2297: 2, 1341: 2, 7330: 2, 4796: 2, 7984: 6, 7780: 6, 8508: 4, 8039: 4, 8307: 2, 9005: 4, 7862: 2, 8281: 2, 7622: 2, 8345: 6, 8679: 4, 7316: 4, 8658: 6, 8698: 2, 8560: 2, 8580: 8, 7447: 2, 8487: 2, 8394: 8, 8674: 2, 8301: 6, 8104: 4, 8416: 2, 7900: 2, 8385: 2, 8528: 6, 8344: 4, 8637: 4, 8573: 4, 8325: 4, 8659: 2, 7613: 6, 8754: 2, 7518: 2, 8886: 2, 8949: 4, 8970: 2, 8907: 4, 9134: 2, 9024: 6, 8467: 2, 9171: 4, 8821: 4, 9118: 8, 10146: 2, 11727: 6, 12177: 4, 11628: 4, 10920: 2, 12158: 2, 11051: 14, 12027: 4, 11855: 4, 8921: 6, 11790: 4, 11593: 2, 8853: 6, 12310: 2, 11724: 2, 12028: 2, 11613: 2, 8969: 2, 24159: 8, 23554: 2, 24345: 2, 24434: 2, 25020: 2, 24831: 2, 22010: 2, 26605: 4, 3339: 4, 13736: 4, 13827: 10, 12096: 2, 14903: 2, 2847: 2, 14571: 2, 20028: 2, 15074: 2, 15216: 6, 15022: 4, 14887: 2, 15098: 2, 14758: 8, 13816: 2, 15218: 2, 17347: 4, 14818: 2, 14913: 4, 17452: 2, 14716: 2, 14463: 4, 14305: 2, 14165: 2, 15565: 2, 17752: 2, 16471: 4, 13734: 2, 356: 2, 959: 6, 2688: 2, 6730: 4, 7224: 8, 9011: 2, 9739: 2, 11902: 10, 9093: 4, 9512: 4, 9576: 2, 9910: 2, 9345: 4, 9889: 4, 9929: 2, 9718: 2, 9625: 4, 9532: 2, 9647: 6, 9130: 4, 9616: 4, 9758: 2, 9575: 2, 9804: 2, 9555: 2, 8844: 4, 9984: 2, 10228: 10, 10217: 8, 10290: 2, 10311: 6, 10870: 4, 10248: 8, 10475: 4, 9808: 2, 10162: 14, 10459: 4, 11510: 6, 13068: 2, 11992: 4, 13975: 2, 12992: 2, 13210: 4, 12284: 2, 12415: 4, 13368: 2, 13219: 4, 10263: 6, 13154: 2, 10194: 10, 13712: 4, 13275: 4, 13087: 6, 12977: 2, 10310: 6, 25390: 8, 24785: 2, 25576: 2, 25664: 2, 26251: 2, 26062: 2, 27014: 2, 27836: 4, 2937: 6, 14967: 2, 13326: 2, 2268: 2, 21259: 2, 16447: 4, 16252: 4, 16117: 2, 15989: 8, 15785: 2, 15047: 2, 18578: 8, 17578: 2, 16729: 2, 16049: 2, 15371: 4, 15287: 4, 18683: 26, 15947: 2, 15694: 2, 15396: 2, 15849: 2, 16796: 4, 17702: 4, 14965: 2, 1047: 4, 2236: 4, 6257: 2, 9383: 2, 8914: 2, 11546: 2, 9184: 6, 11321: 2, 9880: 4, 9156: 4, 8497: 4, 9220: 6, 8989: 4, 9533: 2, 9573: 4, 8322: 6, 9362: 2, 9269: 8, 9176: 4, 9291: 6, 9254: 2, 10114: 6, 9260: 4, 9219: 2, 9511: 4, 9448: 4, 9199: 4, 8488: 2, 9628: 4, 9861: 6, 9934: 4, 9955: 2, 10514: 2, 9892: 22, 9452: 2, 9806: 12, 11154: 4, 12888: 2, 13619: 2, 12636: 2, 12854: 2, 11928: 2, 13600: 2, 12121: 8, 12863: 4, 9907: 6, 12798: 4, 13356: 2, 12607: 12, 12731: 2, 13036: 6, 12621: 2, 9954: 6, 25034: 8, 24429: 2, 25220: 2, 25308: 2, 25895: 2, 25706: 2, 26657: 2, 27480: 4, 2581: 4, 14611: 2, 14702: 6, 15778: 2, 1912: 2, 15446: 2, 20903: 2, 15949: 2, 16090: 2, 15761: 2, 15972: 2, 15633: 8, 15429: 2, 14691: 2, 16093: 2, 18222: 4, 17222: 14, 15693: 2, 15788: 2, 14931: 2, 18327: 2, 15591: 2, 15338: 2, 15180: 2, 16439: 2, 18626: 2, 17346: 4, 14609: 2, 1717: 2, 5209: 2, 6313: 2, 9445: 2, 12077: 2, 9713: 2, 9716: 4, 11852: 4, 10411: 4, 9268: 2, 9687: 2, 9028: 2, 8722: 2, 9521: 6, 9966: 6, 9986: 2, 9893: 4, 9800: 4, 10080: 14, 9707: 2, 9822: 2, 9786: 8, 10645: 2, 9750: 8, 10042: 2, 10065: 6, 10160: 4, 10403: 2, 10392: 6, 10465: 2, 10487: 4, 10650: 4, 10687: 2, 10338: 6, 10847: 2, 11452: 2, 13243: 4, 13186: 2, 13152: 8, 13675: 2, 12419: 6, 13161: 4, 10438: 4, 13095: 6, 12898: 4, 10370: 12, 13029: 2, 25565: 8, 24960: 2, 25751: 2, 25839: 2, 26426: 2, 26237: 2, 23527: 2, 28011: 4, 3112: 6, 15142: 2, 13502: 2, 16309: 2, 2440: 2, 15977: 2, 21434: 2, 16622: 2, 16428: 4, 16504: 2, 16164: 8, 15960: 2, 15222: 2, 16624: 10, 18753: 4, 17753: 10, 16904: 10, 15546: 4, 15462: 2, 15869: 2, 15711: 2, 15571: 2, 16971: 8, 19158: 2, 17877: 4, 6349: 2, 6704: 6, 6500: 2, 7227: 2, 6759: 2, 9391: 6, 7029: 2, 9166: 2, 7725: 4, 6581: 2, 7001: 2, 6036: 2, 7378: 4, 7418: 2, 7280: 4, 6167: 2, 7206: 6, 7114: 4, 7394: 2, 10333: 4, 7021: 2, 6824: 2, 7136: 4, 6619: 2, 7099: 2, 7959: 6, 7247: 2, 7379: 2, 6333: 2, 7473: 2, 6238: 2, 8789: 4, 8778: 4, 8851: 4, 8873: 4, 9431: 2, 8926: 4, 8369: 2, 8724: 4, 9314: 2, 9020: 2, 9233: 4, 8866: 2, 11467: 2, 9348: 6, 11331: 2, 10566: 2, 11312: 8, 11438: 2, 10575: 4, 8824: 6, 10509: 6, 10312: 2, 11068: 2, 10631: 2, 10748: 2, 10332: 4, 8871: 6, 22879: 8, 22274: 2, 23065: 2, 23153: 2, 23740: 2, 23551: 2, 25325: 4, 2580: 4, 12456: 2, 12547: 6, 13622: 2, 3632: 4, 18748: 2, 13794: 2, 13935: 4, 13741: 4, 13606: 6, 13477: 8, 13273: 2, 12536: 2, 13938: 2, 14218: 2, 13538: 4, 13478: 2, 13633: 4, 12859: 4, 16172: 2, 13436: 6, 13183: 4, 13025: 2, 12885: 2, 13338: 4, 14284: 10, 15191: 2, 12454: 2, 4626: 6, 6019: 2, 5820: 2, 5351: 2, 6815: 8, 6973: 2, 5619: 4, 5622: 2, 8685: 2, 6088: 4, 6100: 2, 5750: 2, 5860: 2, 5743: 4, 5991: 4, 5555: 10, 5427: 2, 5936: 2, 6010: 2, 5872: 2, 6050: 2, 5686: 2, 5799: 4, 5706: 4, 5986: 2, 5613: 2, 6343: 4, 6654: 2, 6138: 6, 5692: 4, 6135: 2, 5697: 2, 5840: 2, 5656: 4, 5958: 2, 6043: 2, 5637: 2, 5971: 8, 5852: 4, 5503: 6, 5757: 2, 10617: 4, 10606: 2, 11260: 6, 10637: 2, 10864: 4, 10754: 4, 10197: 2, 10902: 4, 10552: 4, 10849: 6, 11061: 4, 12229: 2, 12093: 2, 11328: 6, 10402: 6, 12074: 2, 10532: 4, 10594: 6, 12200: 2, 11337: 6, 10652: 4, 11271: 2, 11074: 4, 11830: 2, 11393: 2, 11080: 4, 11205: 2, 10699: 4, 22397: 8, 21793: 2, 22584: 2, 22672: 2, 23259: 2, 23070: 2, 24021: 2, 24844: 4, 3810: 4, 11975: 2, 10334: 2, 13141: 2, 7649: 2, 18267: 2, 13454: 2, 13260: 4, 13125: 4, 12792: 2, 12055: 2, 15585: 4, 12997: 2, 12295: 2, 15691: 6, 12701: 2, 12857: 4, 11973: 2, 9155: 4, 11231: 10, 8188: 2, 9110: 4, 9108: 2, 9919: 2, 8574: 4, 9140: 4, 8279: 4, 9021: 2, 8915: 6, 7733: 2, 8794: 2, 9535: 4, 7864: 4, 9323: 12, 9023: 6, 11086: 4, 8797: 6, 8316: 2, 9038: 2, 9033: 4, 9364: 2, 9495: 4, 8030: 6, 9590: 2, 7935: 2, 4161: 4, 4150: 4, 4224: 2, 4804: 4, 4181: 2, 4408: 2, 4298: 4, 3742: 2, 4446: 2, 4096: 4, 4687: 2, 4393: 6, 4605: 4, 7002: 2, 7737: 18, 7452: 2, 8982: 4, 8902: 2, 7433: 2, 8106: 10, 7686: 10, 7716: 4, 4196: 2, 4128: 2, 7585: 4, 8967: 2, 8669: 4, 4243: 2, 18527: 8, 19064: 2, 17229: 4, 16823: 2, 17904: 2, 17715: 4, 17285: 2, 20973: 4, 5844: 4, 14375: 4, 14043: 2, 19500: 2, 14546: 2, 14494: 4, 14359: 2, 14570: 4, 14230: 6, 14183: 2, 16819: 4, 15819: 2, 14970: 2, 14290: 2, 14231: 2, 14385: 2, 13612: 4, 13528: 2, 16924: 2, 14188: 2, 13637: 2, 14091: 2, 15037: 2, 14088: 4, 13206: 2, 1467: 6, 1045: 8, 3115: 4, 1314: 2, 1316: 4, 4971: 4, 1871: 4, 1444: 4, 1972: 6, 1685: 6, 1121: 6, 1630: 4, 1704: 4, 1566: 4, 1745: 4, 1797: 10, 1493: 6, 1401: 12, 1681: 4, 1308: 6, 2554: 4, 2144: 6, 1386: 4, 1391: 4, 1534: 6, 1350: 6, 1331: 6, 1413: 6, 1867: 10, 1319: 6, 1962: 12, 10557: 6, 10546: 10, 10620: 6, 11364: 6, 10577: 10, 10694: 14, 10138: 10, 11006: 6, 10492: 18, 11247: 6, 10953: 6, 7920: 8, 10521: 8, 10385: 6, 10366: 6, 8825: 12, 8887: 22, 9629: 16, 10592: 8, 10122: 8, 10639: 6, 18078: 6, 18870: 6, 18958: 6, 19545: 6, 19355: 10, 20307: 6, 21130: 12, 8260: 6, 8351: 20, 6620: 6, 9427: 6, 9095: 10, 14552: 10, 9622: 6, 9282: 18, 9078: 6, 8341: 10, 11977: 6, 9240: 10, 8987: 8, 8689: 8, 9143: 12, 8258: 6, 950: 6, 4131: 2, 402: 10, 1185: 2, 1182: 2, 3663: 6, 1215: 6, 82: 6, 445: 4, 158: 2, 555: 4, 1395: 2, 868: 2, 1609: 2, 1471: 2, 790: 4, 490: 4, 1398: 2, 1098: 4, 4831: 2, 1191: 2, 721: 2, 819: 2, 1112: 2, 875: 2, 1107: 2, 1439: 2, 1148: 2, 846: 6, 783: 2, 1110: 4, 1570: 4, 560: 6, 1665: 2, 655: 2, 10289: 6, 11152: 2, 10309: 4, 10757: 4, 10427: 4, 10794: 2, 10224: 6, 10741: 2, 10954: 2, 7709: 4, 10174: 4, 9191: 8, 8483: 2, 10155: 4, 8613: 8, 8675: 6, 10281: 6, 9418: 12, 10324: 4, 9591: 8, 10371: 6, 17376: 8, 16771: 2, 18237: 2, 18048: 2, 19000: 2, 19822: 4, 6653: 4, 6953: 2, 5313: 4, 9842: 6, 8291: 2, 8239: 6, 7975: 14, 7771: 14, 7033: 4, 8130: 2, 7357: 10, 7273: 2, 7680: 4, 7522: 6, 7382: 2, 7836: 6, 8782: 2, 10969: 4, 9688: 2, 6951: 2, 469: 2, 2712: 2, 234: 2, 236: 4, 633: 4, 1301: 4, 970: 2, 1541: 2, 864: 2, 1896: 2, 393: 2, 551: 4, 190: 2, 52: 2, 1922: 4, 21: 2, 321: 4, 167: 2, 4913: 6, 228: 4, 2182: 2, 1474: 2, 2343: 4, 306: 4, 750: 2, 312: 2, 20: 6, 271: 6, 572: 4, 310: 4, 151: 2, 246: 2, 11415: 4, 11404: 4, 11811: 2, 11435: 6, 11552: 4, 11453: 4, 11349: 4, 11693: 2, 11612: 2, 10101: 2, 10067: 4, 10813: 2, 9271: 4, 9334: 6, 10940: 6, 11450: 2, 10011: 4, 9813: 6, 11382: 10, 10132: 2, 9820: 8, 9834: 4, 11497: 4, 16854: 2, 17645: 2, 17733: 2, 18320: 2, 18131: 2, 19083: 2, 19905: 4, 7667: 6, 5395: 2, 8203: 2, 7871: 6, 8374: 4, 8398: 2, 8058: 8, 7116: 10, 8118: 2, 8213: 2, 7440: 4, 8016: 8, 7763: 2, 7605: 2, 7465: 6, 7918: 2, 8865: 2, 7034: 2, 3208: 2, 1291: 4, 3781: 2, 998: 4, 501: 2, 1108: 2, 565: 4, 640: 2, 76: 4, 585: 2, 659: 2, 521: 4, 699: 4, 1453: 8, 448: 2, 355: 4, 635: 2, 4948: 6, 262: 2, 2217: 4, 1800: 2, 341: 8, 784: 2, 346: 6, 607: 4, 620: 4, 1523: 4, 715: 2, 1618: 2, 10834: 2, 10823: 4, 10918: 4, 11409: 2, 11013: 2, 10414: 2, 10769: 4, 11292: 2, 11210: 2, 7965: 4, 10567: 2, 8448: 6, 9447: 10, 9665: 2, 10412: 6, 8870: 4, 8932: 6, 10538: 4, 10869: 2, 10801: 4, 10167: 4, 9847: 2, 9432: 2, 17493: 10, 17680: 2, 17768: 2, 18355: 2, 18165: 2, 19117: 2, 19940: 4, 7161: 6, 5430: 2, 8237: 2, 7905: 2, 13362: 2, 8409: 2, 8356: 8, 8221: 4, 8432: 4, 8092: 6, 7888: 4, 7151: 2, 8553: 6, 10681: 6, 9681: 2, 8832: 2, 8153: 2, 8093: 6, 8247: 4, 7474: 4, 7390: 2, 10787: 4, 8050: 2, 7797: 10, 7639: 2, 7499: 2, 7953: 4, 8899: 2, 9805: 14, 7068: 2, 3868: 2, 2946: 2, 2976: 2, 4294: 2, 3054: 4, 3943: 4, 3709: 2, 3603: 2, 4009: 2, 4635: 4, 3132: 2, 3290: 2, 3770: 4, 3404: 2, 4661: 2, 2760: 2, 3060: 4, 5409: 2, 5781: 2, 4213: 2, 5942: 2, 3489: 2, 3051: 2, 3312: 2, 3397: 4, 3049: 2, 2588: 2, 6116: 2, 2494: 2, 6021: 2, 13318: 2, 13307: 4, 13380: 2, 13565: 2, 13455: 4, 13252: 4, 13843: 2, 13549: 2, 13698: 2, 12446: 2, 14429: 2, 13664: 4, 12738: 2, 14410: 2, 12868: 4, 14536: 2, 13673: 6, 13607: 2, 13410: 2, 13284: 2, 14166: 2, 13729: 2, 13416: 4, 13430: 2, 18006: 8, 17401: 2, 18193: 4, 18281: 2, 18868: 4, 18678: 2, 19630: 2, 20453: 4, 5943: 2, 12695: 2, 8418: 2, 13875: 2, 9063: 10, 8945: 8, 8401: 2, 7663: 2, 9066: 4, 11194: 4, 8760: 2, 7987: 4, 7903: 2, 11300: 2, 8563: 2, 8012: 4, 7581: 2, 922: 2, 920: 4, 2590: 2, 952: 4, 335: 8, 832: 4, 575: 2, 726: 2, 1132: 2, 881: 2, 1367: 2, 605: 8, 1346: 2, 1208: 2, 527: 4, 1438: 4, 1135: 4, 835: 6, 1322: 2, 3758: 2, 1187: 2, 850: 2, 505: 4, 844: 2, 885: 2, 584: 2, 498: 2, 1368: 4, 1273: 4, 10259: 4, 10343: 2, 10655: 2, 10456: 4, 8116: 4, 8178: 6, 9784: 2, 10294: 2, 8855: 2, 8976: 4, 16303: 12, 16489: 4, 16578: 2, 17164: 2, 16975: 2, 17927: 2, 18749: 4, 4240: 2, 7047: 4, 10772: 4, 6715: 6, 12172: 2, 7218: 2, 7360: 2, 7166: 4, 7031: 2, 7242: 4, 6902: 8, 6698: 6, 5960: 2, 7362: 4, 9491: 6, 8491: 4, 7642: 2, 6962: 4, 6284: 4, 6200: 2, 9596: 2, 6860: 2, 6607: 2, 6449: 4, 6763: 4, 9896: 4, 8615: 4, 5878: 2, 2: 2, 3512: 2, 1359: 4, 503: 4, 736: 4, 630: 10, 405: 2, 1613: 4, 539: 2, 317: 2, 424: 4, 431: 2, 213: 4, 87: 4, 401: 2, 4679: 4, 6: 6, 1948: 2, 1240: 2, 2109: 4, 72: 2, 516: 4, 78: 4, 254: 2, 37: 4, 385: 2, 1755: 6, 480: 2, 1850: 2, 11201: 2, 11219: 2, 11115: 4, 11459: 4, 11166: 4, 11378: 2, 10734: 2, 10598: 2, 9100: 6, 10706: 2, 11216: 4, 9777: 2, 9579: 8, 9586: 4, 10015: 4, 9600: 2, 17225: 8, 16620: 2, 17411: 2, 17499: 2, 18086: 2, 17897: 2, 18849: 2, 19671: 4, 7430: 6, 6893: 10, 5161: 2, 7969: 4, 10619: 6, 13094: 2, 8282: 4, 8164: 4, 7824: 8, 7620: 2, 6882: 2, 8284: 2, 10413: 4, 8564: 2, 7884: 2, 7979: 6, 7122: 2, 7782: 2, 7529: 4, 7231: 2, 7684: 2, 8631: 2, 6800: 8, 3514: 4, 110: 6, 1065: 4, 1305: 2, 628: 2, 407: 2, 1611: 2, 537: 2, 427: 2, 289: 4, 1682: 4, 215: 4, 85: 6, 403: 2, 8: 2, 1946: 2, 1238: 2, 2107: 4, 70: 4, 513: 4, 75: 6, 256: 2, 34: 2, 336: 8, 1357: 2, 73: 2, 388: 2, 1752: 2, 482: 2, 1847: 2, 11168: 2, 11241: 4, 11198: 2, 11179: 8, 11316: 6, 10759: 2, 11457: 10, 11163: 2, 8131: 2, 10732: 2, 9865: 2, 9612: 4, 9035: 4, 10703: 6, 9840: 4, 9774: 2, 9577: 6, 9597: 2, 16618: 2, 17409: 2, 17497: 2, 17895: 2, 18846: 2, 19669: 4, 7427: 4, 5159: 2, 7966: 2, 7634: 2, 8138: 4, 7950: 2, 8161: 4, 7821: 6, 7617: 2, 6880: 2, 7882: 6, 7822: 2, 7977: 2, 7203: 6, 10516: 4, 7229: 2, 6798: 2, 3854: 8, 3427: 2, 3321: 6, 3727: 2, 3313: 2, 3961: 2, 3200: 2, 3941: 2, 3803: 2, 3122: 4, 3182: 2, 3729: 2, 3429: 8, 3917: 4, 2404: 2, 3546: 2, 3522: 2, 2777: 2, 2276: 2, 2938: 2, 3444: 2, 3099: 2, 3480: 2, 4564: 2, 3093: 8, 3554: 4, 3901: 2, 3996: 2, 3017: 2, 12007: 2, 12070: 2, 12403: 2, 12008: 2, 12144: 4, 11587: 4, 12045: 2, 11942: 4, 12286: 6, 11561: 6, 9442: 14, 10659: 2, 9734: 4, 9864: 4, 11532: 2, 10668: 4, 10406: 10, 11974: 2, 10724: 6, 10426: 2, 14884: 8, 14279: 2, 15070: 2, 15158: 2, 15745: 2, 15556: 2, 16508: 2, 17330: 4, 9359: 4, 4461: 2, 4552: 6, 2820: 2, 5628: 2, 12548: 2, 5296: 2, 5941: 2, 5746: 4, 5612: 2, 5823: 4, 5483: 8, 5279: 2, 4541: 2, 8072: 4, 7072: 2, 5543: 2, 5638: 2, 4865: 6, 4690: 4, 8177: 2, 5441: 2, 5030: 2, 4890: 4, 5343: 2, 6290: 2, 8476: 2, 4459: 2, 1409: 2, 1649: 2, 972: 2, 131: 8, 2253: 2, 851: 2, 536: 2, 398: 2, 325: 6, 1080: 6, 5021: 4, 118: 4, 2290: 2, 1582: 2, 2451: 4, 1095: 4, 761: 6, 1090: 4, 829: 4, 1205: 4, 497: 14, 2097: 4, 592: 8, 2192: 4, 11523: 8, 11512: 4, 11103: 6, 11801: 8, 8475: 6, 11076: 4, 10209: 4, 10175: 4, 9249: 4, 11048: 4, 10184: 8, 10118: 4, 9921: 8, 11489: 4, 10677: 4, 10240: 4, 10052: 10, 10357: 6, 9942: 8, 11605: 4, 17567: 16, 17841: 6, 18428: 8, 18239: 4, 19190: 8, 20013: 8, 7144: 8, 7235: 12, 8311: 4, 8429: 8, 7962: 8, 8906: 4, 8226: 6, 8321: 4, 7548: 8, 7464: 4, 10860: 4, 8124: 8, 7713: 6, 8026: 4, 8972: 4, 11159: 6, 7142: 4, 423: 4, 240: 2, 1373: 2, 546: 4, 1004: 2, 1587: 4, 1449: 6, 1076: 6, 4078: 2, 1193: 2, 740: 2, 639: 4, 1091: 2, 853: 2, 1085: 2, 1417: 8, 1126: 2, 825: 2, 1088: 2, 1548: 4, 642: 6, 737: 2, 10434: 4, 10975: 6, 10391: 2, 10858: 2, 10777: 8, 7532: 2, 8014: 2, 8306: 2, 9978: 4, 8436: 4, 9241: 6, 8984: 16, 8998: 2, 16019: 2, 16810: 2, 17485: 2, 17296: 2, 18247: 2, 19070: 4, 6735: 4, 6201: 4, 6292: 6, 4560: 4, 12493: 2, 7486: 6, 7351: 2, 7562: 4, 7018: 2, 6281: 2, 7683: 2, 8811: 2, 7963: 2, 7283: 2, 7223: 2, 6604: 4, 7181: 4, 6928: 2, 6770: 2, 6630: 2, 7083: 2, 10216: 6, 6199: 2, 106: 2, 946: 2, 965: 2, 577: 2, 419: 2, 1160: 4, 1022: 2, 949: 6, 649: 4, 1136: 2, 4590: 4, 766: 2, 742: 4, 1103: 4, 1150: 2, 1264: 4, 663: 2, 426: 2, 990: 2, 397: 2, 334: 2, 661: 4, 1061: 2, 11235: 2, 10839: 6, 10877: 8, 11036: 4, 7791: 2, 10393: 2, 9526: 2, 8273: 2, 8565: 2, 8696: 6, 8758: 6, 10364: 2, 9238: 2, 9556: 2, 9369: 2, 17135: 8, 16530: 2, 17410: 2, 17997: 2, 17807: 2, 18759: 2, 19582: 4, 6736: 4, 6712: 4, 6803: 6, 5072: 2, 9925: 4, 7547: 4, 13004: 2, 7998: 4, 7530: 2, 6792: 2, 10323: 6, 8474: 4, 7795: 4, 7889: 2, 7032: 4, 7692: 4, 7281: 6, 7141: 2, 7595: 2, 10728: 8, 6710: 2, 713: 4, 1552: 2, 1184: 2, 1024: 6, 1765: 2, 1627: 2, 332: 2, 1554: 4, 1254: 4, 4672: 2, 1371: 2, 1347: 6, 500: 2, 879: 2, 1269: 2, 1595: 2, 1304: 2, 1557: 2, 939: 2, 1268: 2, 1726: 4, 1821: 2, 10131: 2, 10120: 2, 10994: 2, 10151: 2, 9711: 10, 10583: 4, 10796: 2, 7551: 2, 10152: 4, 9285: 2, 8033: 2, 9032: 4, 8455: 4, 8517: 12, 10123: 4, 8997: 2, 9003: 4, 9128: 4, 9017: 2, 10213: 4, 17218: 10, 16613: 2, 17404: 2, 17492: 2, 18079: 2, 18842: 4, 19664: 4, 6495: 4, 6795: 6, 6886: 6, 5154: 4, 9684: 6, 8275: 4, 8080: 6, 7945: 6, 8156: 2, 7817: 16, 6875: 2, 8557: 2, 7877: 4, 7972: 4, 7199: 4, 7115: 2, 10511: 6, 7775: 2, 7364: 4, 7677: 4, 8624: 4, 10810: 2, 9530: 2, 6793: 4, 840: 2, 1029: 2, 641: 4, 313: 2, 1054: 2, 916: 2, 1055: 2, 843: 2, 543: 4, 1030: 4, 4484: 10, 660: 2, 636: 8, 1194: 2, 1355: 2, 558: 2, 320: 2, 552: 4, 884: 2, 593: 2, 292: 2, 1015: 4, 1125: 2, 1220: 2, 10436: 4, 10425: 2, 10519: 6, 10986: 4, 10573: 10, 7938: 6, 10539: 2, 8420: 2, 9419: 4, 9637: 2, 10384: 2, 9646: 4, 10471: 2, 9581: 4, 9384: 2, 9515: 2, 9404: 2, 17029: 8, 17216: 2, 17304: 6, 17891: 6, 18653: 2, 19476: 4, 6606: 2, 4966: 4, 7773: 2, 9989: 6, 8086: 4, 7892: 8, 6697: 4, 7968: 4, 7424: 4, 6687: 2, 8089: 2, 7689: 2, 7629: 2, 7783: 10, 7010: 4, 6926: 2, 7586: 6, 7333: 2, 7176: 2, 7489: 2, 10622: 2, 9342: 2, 6605: 2, 1869: 2, 564: 2, 345: 2, 530: 4, 1895: 2, 457: 4, 644: 4, 249: 2, 2159: 2, 2320: 2, 964: 2, 958: 2, 207: 6, 2241: 4, 634: 2, 1073: 2, 629: 4, 723: 4, 2060: 2, 11391: 4, 11380: 2, 11454: 8, 11475: 2, 11787: 2, 11411: 2, 11528: 4, 11326: 4, 11670: 2, 11589: 2, 10945: 6, 10808: 2, 9825: 4, 10043: 2, 10790: 2, 9248: 12, 9310: 10, 11426: 2, 9790: 4, 11473: 2, 17435: 8, 16831: 2, 17622: 2, 18297: 2, 18108: 2, 19059: 4, 19882: 4, 7012: 2, 7104: 2, 5372: 2, 8179: 4, 10829: 2, 13305: 2, 8492: 6, 8298: 4, 7103: 8, 8163: 2, 8034: 6, 7830: 10, 7093: 2, 10623: 4, 9623: 6, 8095: 2, 8189: 4, 7416: 4, 7332: 4, 10729: 2, 7739: 4, 7582: 2, 7895: 4, 8841: 2, 11028: 10, 9748: 10, 7011: 2, 1503: 4, 1945: 2, 1872: 2, 1572: 4, 2059: 2, 4622: 6, 1673: 2, 788: 2, 1424: 2, 1586: 2, 1349: 4, 1581: 2, 1913: 2, 1622: 2, 1320: 2, 1257: 2, 1584: 2, 201: 2, 296: 2, 9909: 6, 10688: 2, 9845: 4, 10293: 4, 10330: 6, 9760: 4, 10571: 2, 10277: 2, 7245: 2, 7727: 4, 8727: 2, 8019: 2, 9691: 2, 8149: 6, 8211: 6, 8888: 2, 9792: 8, 9010: 4, 8822: 2, 9127: 2, 16563: 2, 17354: 2, 17442: 2, 18029: 2, 17840: 6, 18791: 4, 19614: 4, 6189: 4, 6744: 2, 6836: 2, 5104: 6, 7911: 4, 7579: 2, 13037: 2, 8083: 2, 8224: 2, 6835: 4, 6825: 2, 8227: 2, 10355: 4, 9355: 2, 7827: 2, 7921: 2, 10461: 2, 7724: 2, 7471: 4, 9480: 2, 6743: 2, 954: 2, 583: 2, 624: 2, 1529: 4, 372: 2, 280: 6, 4872: 2, 662: 6, 187: 2, 2141: 2, 1433: 6, 2302: 2, 265: 2, 708: 6, 413: 2, 531: 2, 1074: 2, 616: 2, 268: 2, 544: 2, 1694: 2, 10910: 2, 10899: 4, 10993: 2, 11485: 4, 11047: 4, 11126: 2, 10844: 4, 11367: 2, 11073: 4, 11286: 2, 8041: 2, 10642: 2, 8523: 2, 10506: 2, 9741: 2, 10614: 2, 9487: 2, 10243: 2, 9923: 6, 17418: 8, 16813: 2, 17604: 2, 17692: 4, 18090: 2, 19041: 4, 19864: 4, 6995: 2, 5354: 2, 7829: 2, 13287: 2, 8333: 2, 8145: 2, 7812: 4, 7075: 2, 8477: 6, 10605: 4, 8077: 8, 8017: 2, 8172: 4, 7398: 4, 7315: 2, 10711: 2, 7721: 2, 7564: 4, 8823: 4, 11010: 2, 6993: 2, 741: 2, 114: 2, 230: 6, 717: 6, 4363: 2, 347: 4, 323: 4, 923: 2, 1792: 2, 244: 2, 199: 2, 239: 2, 571: 2, 22: 2, 107: 2, 702: 2, 796: 2, 1533: 4, 10853: 2, 10926: 4, 10948: 4, 10884: 2, 10865: 2, 10799: 4, 11143: 4, 10418: 6, 9516: 2, 8591: 2, 8721: 6, 8783: 6, 10389: 2, 9460: 2, 9263: 2, 10831: 2, 16908: 8, 17095: 2, 17183: 2, 17770: 2, 17580: 2, 18532: 2, 7113: 4, 6485: 2, 6576: 6, 4845: 2, 7652: 2, 10302: 2, 7320: 10, 12777: 2, 7823: 2, 7507: 8, 7303: 2, 6565: 2, 10096: 10, 9096: 2, 7568: 2, 7662: 2, 6889: 4, 6805: 4, 7212: 6, 7054: 4, 6914: 2, 7368: 2, 10501: 2, 6483: 2, 138: 2, 855: 2, 502: 6, 1294: 4, 195: 2, 5235: 2, 442: 6, 2504: 2, 2665: 2, 1303: 2, 542: 2, 518: 6, 1043: 2, 1683: 2, 1942: 2, 2310: 2, 2405: 2, 11736: 4, 11725: 2, 11799: 2, 11820: 2, 11756: 2, 11737: 6, 11774: 6, 11671: 10, 11721: 2, 11290: 2, 11153: 6, 10170: 2, 10388: 2, 11135: 4, 9593: 6, 10135: 2, 10141: 4, 10266: 2, 17780: 8, 17175: 2, 17967: 2, 18055: 2, 18642: 2, 18453: 2, 19404: 2, 20227: 4, 7448: 8, 5717: 2, 8524: 2, 8837: 2, 8379: 10, 8175: 2, 8840: 2, 9968: 2, 9119: 2, 8440: 2, 8534: 4, 7761: 4, 8337: 2, 8084: 4, 7927: 2, 7786: 2, 8240: 2, 11373: 2, 10092: 6, 7355: 2, 1971: 4, 1816: 8, 147: 8, 5373: 4, 580: 2, 2642: 2, 1934: 2, 1801: 2, 1806: 2, 656: 2, 2067: 2, 1545: 2, 1117: 8, 1804: 4, 132: 2, 2448: 2, 226: 4, 11937: 4, 11958: 2, 12270: 2, 11894: 4, 12011: 4, 11912: 2, 11809: 4, 11859: 2, 8827: 2, 11428: 2, 10561: 4, 11273: 2, 11399: 2, 10535: 8, 11909: 4, 11841: 2, 11029: 2, 10591: 4, 10404: 10, 10708: 2, 11956: 2, 17918: 8, 17313: 2, 18105: 2, 18780: 2, 18591: 2, 19542: 2, 20365: 4, 8123: 4, 7495: 2, 5855: 2, 8662: 4, 13788: 2, 8781: 4, 8646: 2, 8313: 2, 7576: 2, 10106: 2, 8578: 2, 8672: 2, 7815: 2, 11212: 4, 8222: 8, 8065: 2, 7924: 4, 8378: 2, 9324: 2, 10230: 4, 7493: 6, 1290: 2, 4285: 2, 461: 4, 437: 2, 359: 2, 121: 2, 353: 2, 685: 2, 394: 4, 93: 8, 1636: 2, 29: 6, 468: 2, 816: 2, 1360: 4, 911: 2, 1455: 2, 10786: 2, 10776: 6, 11182: 4, 10923: 6, 10367: 4, 10721: 4, 11065: 2, 10771: 2, 10984: 4, 10340: 6, 9438: 4, 8513: 6, 9382: 2, 9941: 8, 9316: 2, 9621: 4, 10868: 2, 16830: 8, 16226: 2, 17017: 2, 17105: 2, 18454: 2, 19277: 4, 7035: 8, 6499: 6, 4767: 4, 7574: 2, 12700: 2, 7887: 4, 7693: 4, 7558: 2, 7225: 4, 6488: 2, 10018: 4, 7490: 2, 6811: 4, 6728: 4, 7387: 2, 7134: 6, 6977: 2, 6837: 2, 8236: 6, 6406: 2, 1898: 4, 1598: 6, 2085: 2, 4340: 2, 1699: 2, 507: 2, 1143: 4, 1375: 2, 1607: 2, 1939: 2, 1648: 10, 1382: 2, 1610: 4, 2165: 2, 165: 2, 9956: 2, 10040: 6, 9976: 4, 10560: 4, 10507: 4, 10720: 4, 7957: 2, 9939: 6, 8249: 2, 8441: 6, 10047: 2, 9183: 4, 9991: 2, 9677: 4, 9052: 2, 9357: 2, 8941: 2, 10038: 2, 16886: 8, 16281: 2, 17072: 2, 17160: 2, 17747: 2, 17558: 2, 18510: 4, 19332: 4, 6320: 6, 6463: 2, 6554: 6, 4822: 2, 7298: 2, 7801: 2, 7943: 4, 7748: 4, 7614: 4, 7825: 4, 7485: 16, 8225: 2, 7545: 4, 6867: 6, 6783: 2, 7443: 2, 7190: 2, 6892: 2, 7345: 2, 6461: 2, 300: 4, 654: 4, 2322: 2, 285: 2, 729: 2, 291: 4, 41: 4, 250: 2, 1446: 2, 637: 4, 172: 2, 267: 2, 2066: 2, 11394: 8, 11383: 2, 11456: 2, 11414: 2, 11531: 4, 10974: 2, 11432: 2, 11673: 2, 11379: 2, 11591: 6, 8346: 4, 10081: 10, 9828: 2, 10046: 4, 9251: 4, 10919: 2, 9990: 2, 11361: 4, 10548: 2, 10111: 2, 11476: 2, 17438: 8, 16833: 4, 17712: 2, 18299: 2, 18110: 2, 19062: 2, 19884: 4, 7646: 4, 7015: 2, 7106: 8, 5375: 2, 10835: 2, 7850: 2, 8377: 2, 8037: 14, 7833: 2, 8777: 2, 8097: 4, 7335: 2, 7995: 4, 7742: 2, 7584: 6, 11031: 2, 7013: 8, 1753: 4, 2375: 8, 117: 2, 1861: 4, 1153: 4, 2022: 6, 15: 6, 9: 4, 50: 4, 251: 4, 1944: 4, 380: 2, 472: 4, 1763: 4, 11177: 4, 11132: 6, 11372: 6, 11078: 6, 9780: 4, 8820: 4, 8950: 8, 11129: 10, 11060: 4, 9498: 8, 9513: 12, 16533: 4, 17324: 4, 17412: 4, 17999: 4, 17810: 4, 18762: 4, 19584: 8, 6806: 14, 5074: 4, 10531: 4, 7550: 4, 13007: 4, 8053: 4, 8000: 8, 7865: 4, 7533: 4, 8197: 4, 9326: 6, 7119: 8, 7695: 4, 7284: 4, 7597: 4, 8544: 4, 2863: 2, 638: 2, 1660: 2, 3614: 2, 2906: 2, 3775: 2, 1738: 6, 1743: 2, 1412: 6, 2004: 2, 1483: 2, 2089: 2, 1741: 12, 69: 2, 2505: 2, 2600: 2, 12847: 4, 12836: 2, 12909: 2, 12930: 2, 12984: 4, 12884: 4, 12781: 4, 12831: 2, 12400: 4, 12264: 2, 11281: 6, 11499: 4, 10766: 6, 12372: 4, 11508: 4, 11442: 2, 11564: 2, 11681: 4, 18891: 12, 18286: 2, 19077: 2, 19165: 2, 19752: 2, 19563: 2, 20514: 2, 21337: 4, 8180: 4, 8468: 2, 6827: 2, 11369: 6, 9303: 2, 9947: 2, 9489: 6, 8548: 2, 9550: 4, 9490: 4, 9645: 2, 8872: 4, 12184: 2, 8897: 8, 9350: 2, 12483: 2, 2477: 2, 1154: 2, 2191: 2, 994: 4, 2390: 2, 2153: 2, 2716: 4, 2426: 2, 2124: 2, 2160: 2, 2061: 2, 2848: 2, 2942: 2, 613: 2, 10653: 2, 10611: 4, 11043: 6, 11255: 2, 8010: 6, 8784: 2, 10457: 2, 9654: 2, 9588: 2, 9477: 2, 17934: 8, 18121: 2, 18209: 2, 18796: 2, 18606: 2, 19558: 2, 20381: 4, 6955: 4, 7511: 2, 7602: 8, 5871: 2, 8991: 2, 8329: 2, 7591: 6, 8994: 2, 11122: 4, 8594: 4, 7915: 4, 7831: 2, 11228: 4, 8238: 2, 7940: 2, 9340: 2, 7509: 2, 1270: 2, 2079: 8, 1246: 2, 84: 2, 248: 2, 43: 2, 1365: 2, 379: 2, 1856: 2, 11187: 6, 11270: 2, 11583: 2, 11207: 2, 11324: 4, 11225: 2, 11465: 2, 11171: 4, 11384: 2, 8139: 26, 10740: 4, 9873: 2, 8621: 2, 10604: 4, 8913: 2, 10585: 2, 9106: 6, 10712: 2, 11222: 2, 9782: 2, 9904: 2, 11269: 2, 17231: 8, 16626: 2, 17417: 2, 17505: 2, 18092: 2, 17903: 2, 18855: 2, 19677: 4, 7435: 4, 6899: 6, 5167: 4, 13100: 2, 8146: 2, 8287: 2, 7958: 4, 7626: 4, 6888: 2, 8290: 2, 10419: 4, 7128: 6, 7535: 6, 7237: 4, 7690: 2, 161: 2, 1987: 4, 2318: 2, 2028: 4, 1762: 4, 2544: 2, 10182: 2, 10255: 2, 10276: 2, 10937: 2, 10541: 4, 10819: 2, 9193: 2, 8267: 2, 8397: 4, 8460: 8, 9137: 2, 9070: 2, 17091: 4, 17179: 4, 17766: 2, 17577: 2, 18528: 2, 19351: 4, 6557: 4, 6481: 2, 6572: 6, 4841: 2, 12773: 2, 7820: 2, 7843: 2, 7299: 6, 6562: 2, 7964: 2, 8243: 2, 7504: 2, 7658: 2, 6885: 4, 6801: 2, 7208: 2, 6910: 2, 9216: 2, 6479: 4, 869: 2, 823: 2, 1162: 2, 1494: 2, 902: 2, 2502: 2, 817: 4, 1277: 6, 1625: 2, 1050: 4, 1720: 4, 955: 2, 9930: 2, 10024: 2, 10219: 2, 8627: 2, 7375: 2, 8375: 2, 8593: 6, 9339: 2, 7860: 6, 8602: 4, 8339: 2, 8470: 2, 8775: 2, 8360: 2, 16259: 2, 16846: 2, 16657: 2, 18431: 4, 7265: 4, 5562: 2, 5653: 6, 6729: 2, 6397: 2, 6900: 2, 6847: 4, 6923: 2, 6584: 8, 6380: 2, 5642: 2, 9173: 4, 8173: 2, 6739: 2, 5966: 4, 5882: 2, 6542: 2, 6289: 2, 6131: 2, 6444: 2, 7391: 2, 5560: 2, 2037: 2, 2031: 2, 1565: 2, 1601: 2, 1502: 6, 2289: 2, 149: 2, 2383: 2, 54: 2, 10115: 2, 10380: 4, 10169: 4, 9933: 2, 9797: 2, 9778: 2, 8785: 4, 8909: 4, 8799: 4, 16743: 8, 16930: 4, 17018: 2, 17605: 4, 17416: 2, 18367: 2, 4680: 2, 7487: 2, 7155: 2, 12613: 4, 7659: 2, 7606: 4, 6411: 4, 7138: 4, 6401: 2, 8931: 2, 6724: 6, 6890: 2, 6749: 2, 10336: 4, 6318: 2, 443: 2, 5: 2, 326: 2, 36: 4, 266: 2, 1958: 2, 351: 2, 1777: 2, 11108: 2, 11192: 2, 11128: 2, 11109: 6, 11246: 4, 11387: 2, 11306: 2, 10662: 8, 9761: 2, 9027: 6, 11075: 2, 9826: 2, 9527: 2, 17153: 8, 17339: 2, 17427: 2, 18014: 2, 17825: 2, 18776: 2, 19599: 4, 6821: 6, 5089: 4, 7896: 2, 7565: 2, 8068: 2, 8209: 10, 8015: 4, 7880: 2, 8091: 2, 7751: 6, 6810: 2, 8212: 2, 7752: 2, 7050: 2, 7710: 4, 7159: 2, 8558: 8, 438: 2, 479: 6, 177: 2, 92: 2, 553: 2, 1445: 2, 1540: 2, 10756: 2, 11287: 2, 10893: 4, 11325: 2, 11565: 2, 11272: 2, 11484: 2, 10840: 2, 10685: 4, 9206: 6, 9948: 4, 10791: 2, 9883: 2, 10004: 6, 9692: 4, 10121: 4, 9706: 2, 10838: 2, 16726: 2, 17517: 2, 18192: 2, 18003: 2, 18955: 2, 19777: 4, 6908: 2, 5267: 2, 8075: 2, 7743: 2, 13200: 6, 8246: 2, 8193: 4, 8059: 2, 8270: 2, 7930: 8, 7726: 2, 6988: 2, 8390: 2, 9519: 2, 8670: 2, 7990: 2, 7312: 4, 7635: 2, 7337: 2, 7790: 2, 9643: 2, 6906: 2, 331: 2, 261: 6, 1953: 8, 389: 2, 463: 2, 1677: 2, 557: 2, 11092: 2, 11123: 2, 10683: 6, 11038: 6, 11301: 2, 8538: 4, 8830: 2, 10502: 2, 9022: 6, 9764: 8, 11138: 2, 9699: 2, 9502: 2, 11070: 2, 10258: 2, 9522: 2, 17147: 8, 17334: 6, 18771: 2, 19594: 4, 7352: 4, 7891: 4, 7559: 2, 13016: 2, 8063: 2, 7875: 4, 7542: 2, 8207: 4, 7747: 2, 7704: 2, 7451: 2, 7153: 2, 6722: 2, 677: 2, 330: 2, 11518: 2, 11831: 2, 11015: 2, 11419: 2, 11632: 6, 10988: 2, 10852: 2, 10833: 2, 11469: 10, 11401: 4, 10589: 2, 10269: 2, 11517: 2, 17479: 8, 16874: 4, 17665: 2, 18340: 2, 18151: 2, 19102: 4, 19925: 4, 7687: 4, 7056: 2, 7147: 6, 5415: 2, 10876: 2, 13348: 2, 8206: 2, 8417: 2, 10667: 4, 8818: 4, 8078: 2, 8233: 2, 7460: 4, 7376: 2, 8036: 2, 7625: 4, 302: 2, 387: 2, 39: 2, 422: 2, 11164: 4, 11341: 2, 10698: 2, 8579: 2, 10543: 2, 9001: 6, 11111: 4, 9563: 2, 17188: 8, 16583: 2, 17375: 2, 17463: 2, 17860: 2, 18812: 2, 19635: 4, 7393: 4, 6765: 2, 5125: 4, 7932: 2, 10582: 2, 7600: 2, 8103: 2, 8245: 2, 7916: 2, 8127: 6, 8248: 2, 10376: 4, 9376: 2, 7848: 2, 7169: 4, 7745: 2, 7334: 2, 7194: 2, 525: 2, 1416: 2, 818: 2, 1512: 2, 10842: 2, 11238: 14, 10862: 2, 10843: 6, 10980: 10, 10880: 2, 10827: 2, 11040: 6, 10260: 2, 9277: 2, 8569: 2, 9372: 2, 10924: 2, 16887: 8, 16282: 2, 17073: 2, 17161: 2, 17748: 2, 19333: 4, 6464: 2, 6555: 6, 4823: 2, 10280: 2, 12756: 2, 7802: 2, 7749: 4, 7946: 4, 9075: 6, 7641: 2, 6784: 2, 10180: 2, 7191: 2, 7346: 2, 6462: 2, 417: 6, 809: 4, 1353: 2, 1448: 4, 10758: 2, 10894: 4, 10692: 4, 10742: 2, 10955: 2, 9444: 2, 8484: 2, 8614: 4, 8676: 6, 9353: 2, 9162: 4, 9287: 4, 16801: 12, 16196: 4, 16988: 4, 17076: 2, 17663: 2, 17474: 2, 18425: 2, 19248: 8, 7028: 4, 6378: 4, 6470: 2, 4738: 2, 7213: 2, 12671: 2, 7858: 6, 7664: 4, 6469: 4, 7740: 2, 6459: 2, 7861: 2, 7401: 2, 6782: 4, 10095: 4, 7358: 2, 6948: 2, 6807: 2, 7261: 2, 6376: 2, 1680: 2, 81: 4, 1844: 2, 11237: 2, 11258: 2, 11571: 2, 11195: 2, 8609: 2, 9031: 4, 9094: 6, 9836: 4, 17219: 8, 16614: 2, 17405: 2, 18080: 2, 7423: 4, 6796: 2, 5155: 2, 7631: 2, 8134: 2, 8081: 4, 8157: 2, 6876: 2, 7878: 2, 7818: 6, 7973: 2, 7200: 4, 7523: 2, 7365: 2, 7678: 4, 9531: 2, 2140: 2, 95: 4, 2238: 2, 11962: 4, 11586: 2, 11604: 2, 11501: 8, 11845: 2, 11551: 4, 11763: 2, 11120: 6, 10253: 2, 10000: 2, 10218: 2, 9292: 2, 9485: 6, 10227: 12, 11601: 2, 10283: 2, 9971: 4, 10400: 2, 9985: 4, 17610: 8, 17005: 2, 17797: 2, 17885: 2, 18471: 2, 18282: 2, 19234: 2, 20056: 4, 7187: 2, 7278: 8, 5547: 4, 8354: 2, 8338: 2, 8549: 2, 7267: 2, 10798: 4, 10903: 6, 8167: 4, 7756: 2, 7616: 4, 8070: 2, 9922: 2, 7185: 2, 10026: 2, 10163: 4, 9607: 4, 7405: 2, 10006: 2, 9105: 2, 8371: 6, 9977: 2, 10061: 2, 9170: 4, 10108: 2, 17002: 2, 17677: 2, 18440: 2, 19262: 4, 6393: 2, 6484: 6, 4753: 2, 12685: 4, 7679: 4, 7544: 2, 6473: 2, 9004: 2, 7570: 2, 6797: 4, 7373: 8, 7276: 2, 10409: 2, 6391: 2, 2330: 2, 12768: 4, 12057: 2, 11661: 2, 11798: 4, 11698: 2, 11595: 6, 11645: 2, 11858: 2, 11214: 2, 10347: 4, 10313: 2, 11059: 4, 9580: 6, 10322: 4, 11695: 2, 10059: 2, 11627: 2, 10378: 2, 10495: 6, 10079: 4, 11743: 2, 17705: 8, 17100: 2, 17979: 2, 18566: 2, 18377: 2, 19328: 4, 20151: 4, 7913: 4, 7282: 2, 11102: 2, 13574: 2, 8567: 4, 8099: 2, 8764: 6, 8304: 2, 8459: 2, 7851: 2, 11297: 2, 10017: 4, 12202: 2, 10420: 2, 10358: 4, 9938: 2, 10395: 2, 10342: 2, 10555: 2, 8214: 4, 8276: 10, 8953: 2, 8762: 10, 10439: 2, 16721: 8, 16116: 2, 16907: 2, 16995: 4, 17582: 2, 17393: 2, 18345: 2, 19167: 4, 6373: 10, 6298: 2, 6389: 6, 4658: 2, 7133: 2, 7449: 2, 7660: 2, 8060: 2, 7380: 2, 6702: 4, 6618: 2, 10014: 2, 7025: 2, 6727: 2, 6296: 2, 1550: 2, 63: 2, 1094: 2, 1013: 4, 371: 2, 1495: 4, 1372: 2, 5681: 2, 4084: 2, 5174: 4, 4534: 2, 5042: 4, 4961: 2, 6436: 2, 4516: 2, 5544: 8, 5123: 8, 4384: 2, 4563: 4, 5077: 2, 1528: 2, 4667: 2, 5026: 2, 5071: 4, 6615: 2, 4728: 2, 16157: 8, 16694: 2, 14860: 2, 14453: 4, 15534: 2, 15345: 2, 14916: 2, 18604: 4, 16387: 2, 16478: 8, 14746: 2, 17221: 2, 17778: 2, 12411: 2, 17866: 2, 13010: 4, 17919: 2, 12426: 2, 12746: 8, 17204: 2, 16467: 2, 12644: 2, 13476: 2, 17469: 2, 12901: 6, 16790: 6, 12588: 2, 17367: 2, 18826: 2, 16956: 2, 17157: 2, 19122: 2, 1487: 2, 1525: 2, 31: 2, 1105: 2, 382: 2, 1142: 6, 1506: 6, 1089: 2, 4095: 2, 4429: 2, 5185: 10, 4545: 4, 5053: 2, 4972: 2, 6447: 2, 4526: 2, 5134: 6, 4395: 2, 4574: 4, 46: 2, 5088: 2, 1538: 2, 5037: 2, 5082: 4, 4814: 2, 4739: 2, 16168: 8, 16705: 2, 14870: 2, 14464: 2, 15545: 10, 18614: 4, 9837: 4, 16397: 2, 19052: 2, 11125: 2, 17232: 2, 17789: 2, 12422: 4, 13021: 4, 16488: 4, 17930: 2, 12757: 8, 17215: 2, 11631: 2, 14698: 4, 12655: 2, 13487: 2, 17480: 2, 12912: 2, 13163: 6, 17377: 2, 18836: 2, 16967: 2, 16826: 2, 17280: 2, 19132: 2, 16395: 2, 303: 2, 1518: 2, 309: 2, 1069: 2, 1228: 2, 4022: 2, 4356: 2, 5112: 2, 4472: 2, 4979: 2, 4899: 2, 5481: 4, 5061: 8, 4321: 2, 4501: 4, 4616: 2, 5015: 6, 4964: 2, 5009: 8, 6552: 2, 4741: 2, 4666: 2, 16095: 8, 16631: 2, 15472: 2, 15283: 2, 18541: 4, 16324: 2, 14684: 4, 18979: 2, 17159: 2, 12349: 2, 17804: 2, 12947: 4, 17857: 2, 12363: 2, 12684: 8, 17142: 4, 16404: 2, 11558: 2, 12582: 4, 13414: 2, 17406: 2, 16728: 4, 13090: 2, 12526: 2, 18763: 2, 16893: 2, 16753: 2, 17207: 2, 17094: 2, 11464: 2, 16322: 2, 1200: 2, 1555: 2, 53: 6, 1106: 4, 1053: 2, 1265: 2, 4059: 2, 5149: 2, 4509: 2, 5017: 2, 4936: 8, 6410: 2, 4490: 2, 5518: 8, 5098: 6, 4359: 2, 4538: 4, 4654: 2, 5052: 2, 4642: 2, 5001: 2, 5046: 4, 6589: 4, 4778: 2, 4703: 8, 1617: 2, 16132: 8, 16669: 2, 14834: 2, 14428: 2, 15320: 2, 14890: 2, 9801: 4, 16361: 2, 16452: 10, 14721: 4, 19016: 2, 17196: 2, 12386: 2, 17894: 2, 13451: 2, 17444: 2, 16765: 4, 13127: 6, 12563: 2, 17341: 2, 18800: 2, 17244: 2, 17131: 2, 19096: 2, 16359: 2, 1351: 2, 1253: 4, 612: 2, 1388: 6, 175: 4, 1629: 2, 5516: 2, 4341: 2, 4675: 6, 4791: 2, 5299: 2, 5219: 2, 6271: 2, 4773: 2, 5379: 4, 4958: 8, 4641: 2, 4821: 6, 275: 2, 5335: 2, 4925: 2, 5284: 2, 4985: 2, 16414: 8, 16951: 2, 15117: 2, 15603: 2, 18861: 4, 8986: 4, 13495: 4, 19298: 2, 11371: 2, 15970: 2, 18035: 2, 16692: 4, 12845: 4, 16745: 4, 12581: 6, 15215: 2, 14522: 4, 16217: 2, 12736: 2, 12987: 2, 16115: 2, 15862: 2, 15704: 2, 15564: 2, 16018: 4, 16992: 2, 17870: 2, 1111: 2, 1475: 4, 1058: 2, 1271: 2, 5661: 2, 4064: 2, 4398: 2, 993: 2, 4514: 2, 5022: 2, 4941: 2, 6416: 2, 4496: 2, 5524: 6, 5103: 8, 4364: 4, 4543: 4, 4659: 2, 5057: 2, 4647: 2, 5006: 2, 5051: 6, 6595: 2, 4783: 2, 62: 2, 16137: 8, 16674: 2, 14840: 2, 15514: 2, 15325: 2, 14896: 2, 18584: 4, 16367: 2, 16458: 6, 14726: 2, 19021: 2, 17758: 2, 12391: 8, 17846: 2, 17899: 4, 12406: 2, 17184: 2, 14667: 8, 12624: 4, 13456: 4, 17449: 2, 12727: 2, 16770: 4, 13132: 2, 18805: 2, 16936: 2, 17249: 2, 16365: 2, 1466: 2, 278: 2, 1562: 2, 4568: 2, 4902: 2, 5236: 2, 5018: 2, 5526: 2, 5445: 2, 6497: 2, 4999: 8, 5605: 4, 4868: 2, 5047: 4, 5163: 2, 5561: 2, 5151: 2, 5510: 2, 6676: 2, 5287: 2, 5212: 2, 549: 2, 17178: 2, 15343: 2, 14937: 2, 15829: 2, 15399: 2, 19087: 6, 15362: 4, 15453: 6, 19525: 2, 11598: 2, 12473: 6, 16918: 2, 13071: 8, 12487: 6, 12807: 14, 16179: 2, 15442: 2, 11682: 2, 12706: 2, 16444: 10, 12808: 2, 15765: 4, 13213: 2, 12650: 2, 16341: 2, 15791: 2, 16244: 2, 18097: 2, 15360: 2, 1052: 2, 1293: 2, 999: 2, 1212: 2, 5603: 2, 4005: 4, 4339: 6, 5096: 4, 4455: 2, 4963: 2, 4882: 4, 6357: 4, 4437: 4, 5045: 12, 4305: 4, 1517: 6, 4600: 4, 4589: 4, 4992: 8, 6536: 4, 4725: 4, 1564: 4, 16078: 16, 16615: 4, 14781: 4, 14374: 4, 15456: 4, 15266: 4, 18525: 8, 16308: 4, 16399: 12, 18962: 4, 17143: 4, 17699: 4, 12332: 4, 17787: 4, 12347: 10, 12667: 12, 17125: 4, 16388: 4, 11541: 4, 14608: 10, 12565: 4, 13397: 4, 17390: 4, 12668: 6, 12822: 4, 16712: 8, 13073: 4, 12510: 4, 17288: 4, 18747: 4, 17190: 6, 17078: 4, 11447: 4, 19043: 4, 16306: 4, 1868: 6, 1744: 2, 1450: 2, 6054: 4, 4456: 2, 4790: 8, 5414: 2, 5333: 2, 4888: 2, 5916: 4, 5496: 6, 1968: 2, 5450: 2, 5040: 2, 5399: 2, 5444: 4, 6987: 2, 5100: 2, 2015: 4, 15982: 10, 16518: 2, 15170: 2, 14740: 4, 16107: 2, 17182: 2, 11107: 2, 16850: 2, 16698: 2, 12783: 2, 17282: 2, 13118: 6, 11993: 2, 13017: 4, 13848: 2, 17098: 2, 13119: 2, 16419: 4, 13524: 4, 16742: 2, 16585: 2, 16445: 2, 17529: 2, 11898: 2, 18751: 2, 16014: 2, 1196: 2, 1337: 2, 160: 2, 5705: 4, 4531: 2, 5198: 2, 1442: 4, 4980: 2, 5488: 2, 5408: 6, 6460: 2, 4962: 4, 5568: 4, 5148: 6, 4830: 2, 5010: 4, 465: 2, 396: 2, 5114: 2, 5473: 2, 6639: 2, 5250: 2, 512: 2, 16604: 8, 17140: 2, 15981: 2, 19050: 4, 15324: 2, 15415: 6, 13684: 2, 19487: 2, 11560: 4, 16159: 2, 18224: 2, 12435: 4, 16881: 6, 16934: 2, 12450: 2, 12770: 6, 11644: 2, 13500: 8, 16407: 2, 12771: 2, 15728: 4, 13176: 2, 16304: 2, 16051: 2, 15893: 2, 16207: 2, 17181: 2, 11550: 2, 18059: 2, 15322: 4, 124: 4, 5747: 2, 4149: 2, 4483: 2, 5240: 2, 4599: 2, 5107: 2, 5027: 2, 6501: 2, 4581: 2, 5609: 6, 5189: 12, 4449: 4, 4629: 8, 100: 4, 4744: 4, 5143: 6, 32: 4, 4733: 4, 5092: 4, 5137: 8, 6680: 4, 4869: 6, 4793: 6, 16222: 16, 16759: 4, 14925: 4, 14519: 4, 15600: 4, 15411: 4, 14981: 4, 18669: 8, 14811: 6, 19106: 4, 17287: 4, 17843: 4, 12476: 8, 17932: 4, 13075: 8, 17985: 4, 12491: 4, 12811: 12, 17270: 4, 16532: 4, 11686: 4, 17534: 4, 12812: 4, 12967: 10, 16856: 8, 17432: 4, 17021: 6, 19187: 4, 16450: 4, 294: 2, 4290: 2, 4624: 2, 4740: 2, 5248: 4, 6219: 2, 4721: 2, 5327: 4, 4907: 12, 4769: 6, 224: 2, 4884: 2, 5283: 2, 156: 2, 4873: 2, 5277: 4, 6398: 4, 4934: 4, 16363: 8, 16900: 2, 15065: 2, 15740: 2, 15551: 2, 15121: 2, 18809: 4, 8934: 4, 15083: 2, 15175: 2, 19247: 2, 15918: 2, 17984: 2, 16640: 2, 15174: 4, 16693: 2, 12529: 6, 15901: 2, 15164: 2, 14470: 4, 12428: 2, 13259: 6, 16166: 2, 12530: 2, 15487: 4, 12935: 2, 16063: 2, 15653: 2, 15512: 2, 16940: 2, 4840: 2, 4333: 2, 4000: 2, 5579: 2, 5498: 2, 5595: 2, 3982: 2, 4282: 6, 3850: 2, 4312: 4, 4428: 2, 450: 2, 4133: 4, 5563: 2, 5608: 4, 5773: 2, 5265: 2, 15075: 8, 15612: 2, 13778: 2, 14263: 2, 17522: 4, 16747: 2, 15294: 2, 15484: 2, 11570: 2, 16016: 2, 12169: 4, 16069: 2, 11905: 8, 14539: 4, 11803: 2, 12635: 2, 15541: 2, 14863: 4, 15028: 2, 14888: 2, 15341: 2, 16315: 2, 14457: 2, 3660: 2, 5039: 2, 6300: 2, 4803: 2, 4988: 6, 4671: 2, 205: 2, 4850: 4, 5364: 2, 237: 2, 4954: 2, 5358: 4, 5090: 2, 352: 2, 16981: 2, 15146: 2, 15821: 2, 15632: 2, 18890: 4, 15165: 2, 15256: 6, 16000: 2, 18065: 2, 16722: 2, 12874: 4, 16775: 2, 12290: 2, 12611: 8, 15245: 4, 12509: 2, 13341: 2, 12766: 8, 12453: 2, 16145: 2, 15892: 2, 15594: 2, 16047: 2, 17900: 2, 2872: 2, 2005: 2, 5654: 2, 2013: 2, 1087: 2, 2759: 2, 5285: 2, 1957: 2, 1759: 2, 5217: 2, 2078: 2, 1766: 4, 1890: 2, 2195: 6, 1780: 4, 5332: 2, 13995: 8, 14532: 2, 12698: 2, 12291: 2, 12754: 2, 16442: 4, 10882: 4, 10725: 4, 11280: 2, 14071: 2, 11592: 2, 12123: 2, 10816: 4, 8013: 8, 8743: 2, 11808: 4, 8168: 2, 7855: 2, 11705: 2, 10588: 2, 11608: 2, 13629: 2, 2380: 2, 4781: 2, 695: 2, 1524: 6, 1443: 2, 3641: 2, 676: 2, 2939: 6, 545: 2, 3620: 2, 3720: 2, 1559: 2, 3652: 2, 595: 2, 1553: 4, 2490: 2, 719: 2, 1210: 2, 12105: 8, 12641: 2, 10807: 2, 11293: 2, 10863: 2, 13907: 2, 13922: 6, 14989: 2, 13725: 2, 13867: 2, 9631: 4, 14648: 2, 11893: 4, 9850: 2, 10107: 2, 14773: 2, 14476: 2, 13845: 2, 14789: 2, 14362: 2, 8731: 2, 13868: 2, 5178: 2, 1249: 2, 2774: 8, 1230: 4, 3883: 2, 178: 6, 3983: 2, 293: 2, 3915: 2, 686: 4, 1623: 2, 148: 2, 343: 6, 4030: 2, 12429: 8, 12966: 2, 10726: 2, 11807: 8, 11618: 2, 11188: 2, 14876: 4, 13289: 2, 13304: 4, 13927: 2, 14159: 2, 14047: 2, 12664: 16, 13195: 2, 13303: 4, 13248: 2, 9084: 6, 14030: 2, 11026: 4, 8983: 2, 14295: 4, 12816: 4, 14192: 2, 12275: 6, 15316: 6, 13250: 2, 1484: 2, 1261: 2, 2509: 2, 967: 4, 2635: 2, 6154: 2, 1706: 2, 1509: 2, 6086: 2, 1827: 2, 1440: 2, 13745: 8, 15337: 2, 12447: 2, 12041: 4, 12933: 2, 12503: 2, 16191: 4, 12414: 2, 14245: 2, 12535: 2, 11151: 2, 7251: 2, 11780: 2, 6446: 2, 7470: 2, 12782: 2, 11303: 4, 7978: 2, 7414: 2, 12680: 2, 12199: 2, 10762: 2, 11714: 2, 11782: 2, 11982: 2, 6352: 2, 5740: 2, 1278: 2, 3476: 2, 2030: 6, 108: 6, 4015: 2, 880: 4, 4115: 4, 1394: 2, 4047: 2, 391: 2, 2325: 2, 1044: 2, 4162: 2, 11715: 8, 14162: 4, 13518: 2, 13533: 2, 14599: 2, 14276: 2, 9451: 2, 10050: 6, 14259: 2, 8660: 4, 13921: 4, 10192: 2, 14421: 2, 14384: 2, 14087: 2, 14400: 2, 14197: 2, 8566: 2, 18479: 2, 2745: 2, 1300: 4, 2043: 6, 1634: 2, 4445: 2, 569: 8, 4477: 2, 1063: 6, 16: 2, 986: 2, 4592: 2, 12744: 8, 13281: 2, 11502: 2, 15190: 4, 12540: 4, 13257: 2, 12405: 2, 12458: 4, 7974: 2, 13240: 2, 12502: 2, 10235: 4, 13504: 2, 12787: 4, 8137: 2, 13402: 2, 12921: 2, 13266: 2, 12705: 2, 7074: 2, 12460: 6, 488: 6, 1219: 2, 4465: 2, 116: 6, 4396: 2, 982: 2, 65: 2, 233: 2, 4512: 2, 13344: 2, 12185: 2, 12562: 4, 12577: 6, 14640: 2, 13321: 2, 8038: 2, 8358: 8, 12566: 2, 8256: 2, 9088: 2, 13568: 2, 12707: 4, 13466: 2, 13185: 4, 15206: 2, 12523: 2, 3494: 2, 2350: 2, 3827: 6, 5433: 2, 8024: 2, 4569: 4, 3765: 2, 4504: 2, 4307: 2, 5063: 2, 4625: 2, 4313: 4, 4438: 4, 4742: 2, 4327: 2, 8171: 2, 14839: 2, 15920: 2, 18989: 4, 9722: 6, 10797: 2, 10466: 4, 12560: 2, 8980: 6, 10448: 2, 6610: 2, 8879: 2, 10713: 2, 8981: 2, 9136: 2, 6012: 2, 10060: 2, 7760: 2, 12534: 4, 2792: 10, 126: 2, 4033: 2, 898: 4, 2049: 2, 4065: 2, 410: 2, 1361: 2, 1406: 6, 11734: 8, 14180: 4, 13536: 2, 13551: 6, 13687: 4, 14618: 2, 14176: 2, 13355: 2, 9470: 2, 10068: 4, 13496: 2, 14542: 2, 9960: 2, 14440: 2, 14402: 2, 14105: 2, 13474: 2, 14419: 2, 14215: 2, 8585: 4, 18497: 2, 13497: 2, 4766: 2, 804: 8, 4866: 2, 739: 2, 912: 4, 4798: 8, 1298: 6, 861: 4, 905: 8, 1326: 8, 978: 4, 562: 8, 13098: 16, 13635: 4, 11857: 4, 12145: 8, 12865: 4, 12880: 12, 12543: 8, 14663: 4, 13624: 4, 12240: 4, 8326: 4, 12772: 4, 12825: 4, 8661: 16, 12869: 4, 13871: 4, 8816: 4, 12392: 8, 9067: 4, 8503: 4, 13769: 4, 12871: 4, 14892: 4, 12826: 4, 2666: 10, 937: 6, 4743: 4, 1848: 4, 1842: 10, 2007: 4, 1499: 4, 14312: 24, 15904: 6, 13014: 6, 12608: 6, 13689: 6, 13070: 8, 11274: 12, 14093: 6, 11718: 6, 7804: 6, 12250: 6, 8403: 12, 7819: 6, 13085: 8, 8545: 6, 13247: 6, 12281: 6, 11999: 6, 12549: 20, 6919: 6, 14020: 6, 12304: 6, 772: 4, 4506: 2, 887: 2, 1286: 2, 283: 2, 1280: 6, 684: 2, 4553: 2, 11870: 8, 10629: 2, 14317: 8, 13688: 6, 13560: 2, 14754: 2, 14548: 2, 14431: 2, 13491: 2, 13580: 2, 9678: 6, 13677: 2, 10408: 2, 9679: 2, 14077: 4, 14577: 2, 14242: 2, 14555: 2, 14089: 2, 18634: 2, 4528: 4, 4060: 2, 590: 2, 541: 2, 586: 4, 1531: 2, 242: 2, 11018: 4, 12099: 4, 11910: 4, 11481: 4, 15169: 8, 12866: 6, 14304: 4, 12564: 4, 13148: 4, 13930: 4, 10925: 8, 8882: 4, 14194: 4, 8985: 4, 12716: 8, 14092: 4, 12175: 4, 13194: 4, 13395: 4, 7764: 4, 13150: 4, 5509: 2, 4291: 2, 4632: 2, 4991: 2, 5036: 4, 6580: 2, 4693: 2, 47: 2, 14825: 2, 14418: 2, 15499: 2, 15310: 2, 18569: 4, 16352: 2, 16443: 6, 19006: 2, 17187: 4, 17743: 2, 12376: 2, 17831: 2, 12975: 4, 17884: 2, 12711: 6, 17169: 2, 16432: 2, 14652: 4, 12609: 2, 13441: 2, 17434: 2, 16755: 4, 13117: 2, 12554: 2, 17332: 2, 16921: 2, 16781: 2, 17234: 2, 16350: 2, 297: 2, 4223: 2, 706: 2, 260: 2, 290: 4, 1907: 2, 13143: 2, 11984: 2, 11365: 2, 15053: 4, 13124: 2, 13139: 6, 12802: 2, 14467: 2, 13883: 2, 12499: 2, 13084: 2, 8599: 2, 13865: 2, 13128: 6, 7794: 10, 12651: 4, 14028: 2, 13547: 2, 12110: 2, 13130: 2, 7700: 2, 5111: 2, 1084: 2, 51: 2, 1021: 2, 778: 2, 349: 4, 4628: 2, 12673: 8, 12050: 2, 11861: 2, 15119: 4, 12576: 4, 12973: 14, 13292: 2, 12494: 2, 12538: 2, 8228: 2, 9060: 2, 8485: 2, 13438: 2, 12472: 2, 13301: 2, 12740: 2, 7110: 2, 12495: 4, 4235: 2, 4462: 2, 6648: 2, 4837: 2, 4761: 2, 4596: 2, 5157: 2, 16190: 8, 16727: 2, 14893: 2, 15568: 2, 15378: 2, 14949: 2, 18637: 4, 16420: 2, 16511: 6, 19074: 2, 17811: 2, 12444: 2, 17952: 2, 12459: 2, 12779: 6, 17238: 2, 16500: 2, 11653: 2, 12677: 2, 17502: 2, 12780: 2, 16824: 4, 12622: 2, 17400: 2, 17302: 2, 19155: 2, 16418: 2, 481: 2, 734: 2, 4350: 2, 2464: 2, 12438: 2, 11279: 2, 11090: 2, 10660: 2, 14348: 4, 11427: 4, 13719: 6, 13358: 2, 14785: 2, 9408: 4, 9144: 6, 13708: 2, 9145: 2, 9299: 2, 13642: 2, 13665: 2, 45: 4, 985: 2, 727: 4, 298: 2, 554: 2, 4577: 4, 12742: 8, 11445: 2, 11931: 2, 15189: 4, 12525: 4, 12512: 6, 13135: 2, 14706: 2, 13256: 2, 11872: 2, 8556: 4, 12457: 2, 8293: 8, 13238: 2, 12501: 2, 10234: 4, 8135: 2, 12920: 2, 13379: 2, 12703: 2, 873: 6, 598: 4, 12679: 20, 13216: 4, 12056: 4, 11867: 4, 11437: 6, 15126: 8, 12570: 8, 12528: 4, 13166: 4, 14750: 4, 13286: 4, 7989: 4, 12434: 4, 8587: 8, 12542: 8, 8323: 12, 13269: 4, 12532: 4, 13534: 4, 8324: 4, 8479: 4, 12817: 8, 13431: 4, 12951: 4, 12466: 4, 12734: 4, 5783: 2, 11422: 2, 11635: 4, 12002: 6, 12626: 2, 14824: 2, 11363: 2, 11947: 2, 7463: 2, 12729: 2, 11991: 2, 6657: 2, 7681: 4, 12993: 2, 7784: 2, 12891: 2, 12410: 2, 11985: 2, 11926: 4, 12870: 2, 428: 4, 4178: 2, 2220: 2, 12819: 8, 11659: 2, 11470: 2, 11388: 4, 14084: 2, 14099: 6, 15166: 2, 14307: 2, 14843: 2, 13903: 2, 13991: 2, 14044: 2, 8912: 2, 11173: 4, 15090: 2, 14988: 2, 14023: 2, 13442: 2, 13643: 2, 15463: 2, 14046: 2, 1729: 2, 13086: 2, 11252: 2, 10845: 2, 11308: 2, 14996: 4, 12946: 2, 13584: 2, 14407: 2, 13705: 2, 8407: 2, 9006: 4, 8421: 2, 13952: 2, 8584: 2, 13369: 2, 12907: 2, 4481: 2, 16075: 8, 16612: 2, 14371: 2, 15452: 2, 15263: 2, 14833: 2, 18522: 4, 9744: 4, 16396: 6, 14664: 2, 18959: 2, 11032: 2, 17696: 2, 12928: 4, 17837: 2, 12344: 2, 11538: 2, 13394: 2, 17387: 2, 12665: 2, 16708: 4, 12506: 2, 17284: 2, 18743: 2, 16734: 2, 17075: 2, 11444: 4, 19040: 2, 9440: 8, 1243: 8, 971: 8, 2999: 8, 1831: 12, 21881: 16, 9338: 24, 12862: 8, 25070: 8, 9327: 8, 8747: 16, 10638: 8, 9727: 16, 10205: 8, 11064: 8, 9843: 8, 9284: 8, 5735: 2, 22637: 4, 13618: 2, 11160: 2, 25826: 2, 10837: 2, 10070: 2, 10039: 2, 10405: 8, 10083: 2, 12225: 2, 10982: 2, 10648: 2, 10961: 2, 406: 2, 675: 2, 486: 2, 21768: 4, 9225: 6, 12749: 2, 24957: 2, 9029: 2, 9117: 4, 8635: 4, 9614: 4, 11356: 2, 9779: 2, 9149: 2, 10093: 2, 10951: 2, 14172: 2, 9172: 2, 1081: 4, 892: 2, 3072: 4, 21856: 4, 12837: 2, 25045: 2, 10722: 4, 10458: 6, 9302: 2, 10304: 2, 10613: 2, 9702: 4, 10164: 2, 10181: 2, 9818: 2, 14260: 2, 2430: 2, 2228: 4, 22443: 4, 9885: 2, 9900: 6, 10967: 2, 25632: 2, 10627: 2, 11200: 2, 12031: 2, 8300: 2, 10789: 2, 10751: 2, 9823: 2, 11626: 2, 2394: 4, 22254: 4, 10778: 2, 25443: 2, 9514: 2, 9656: 2, 9121: 4, 10702: 2, 11011: 2, 10100: 4, 11842: 2, 8111: 2, 10562: 2, 14657: 2, 9657: 2, 4422: 4, 23206: 4, 14186: 2, 11729: 2, 26395: 2, 10554: 2, 10607: 2, 11487: 2, 10072: 4, 11654: 2, 11514: 2, 10586: 2, 12388: 2, 11167: 2, 15609: 2, 10609: 2, 24371: 8, 11813: 4, 11828: 12, 15352: 4, 12895: 4, 27560: 4, 11773: 4, 12653: 4, 12555: 4, 11817: 4, 13588: 4, 12717: 4, 12382: 4, 11751: 4, 12696: 4, 13554: 4, 12333: 4, 16774: 4, 12652: 4, 12558: 4, 11315: 4, 14122: 4, 3840: 4, 13791: 4, 14435: 4, 14241: 8, 13047: 8, 14106: 4, 13977: 12, 14438: 4, 15567: 4, 14718: 4, 14038: 4, 13978: 4, 14133: 4, 13276: 4, 16672: 4, 13936: 4, 13683: 4, 13525: 4, 13385: 4, 14784: 4, 2587: 2, 3633: 2, 15841: 2, 129: 4, 3662: 4, 1120: 2, 4846: 2, 1018: 2, 467: 2, 1866: 2, 4066: 2, 4832: 2, 3532: 2, 2770: 2, 3928: 2, 3509: 2, 3875: 10, 2602: 4, 3180: 2, 3951: 6, 3611: 6, 2753: 4, 2469: 4, 5909: 4, 6185: 4, 5186: 4, 2594: 4, 3612: 8, 2991: 10, 4746: 2, 6291: 6, 2491: 6, 3156: 2, 2458: 6, 3470: 6, 3764: 6, 5815: 6, 4955: 2, 2549: 6, 2909: 6, 4433: 2, 3261: 2, 3070: 4, 1873: 4, 2932: 6, 3146: 2, 2806: 6, 2599: 2, 1862: 2, 4692: 2, 5405: 4, 4405: 2, 3556: 2, 2864: 2, 2807: 2, 2185: 4, 3530: 2, 5511: 2, 2762: 2, 2664: 2, 3610: 2, 4598: 2, 4513: 2, 8680: 2, 3716: 4, 3069: 2, 2162: 4, 2740: 2, 3739: 2, 3399: 6, 2314: 2, 5286: 2, 5998: 4, 3400: 2, 2779: 4, 4123: 2, 6104: 2, 2052: 4, 2409: 2, 3325: 2, 5191: 2, 2373: 2, 22257: 2, 17445: 2, 17251: 4, 16056: 4, 17116: 2, 17327: 2, 16987: 6, 16045: 2, 17448: 2, 19576: 4, 18576: 2, 16369: 4, 16285: 2, 19682: 2, 16945: 2, 16394: 2, 17794: 2, 19981: 2, 18700: 2, 15963: 2, 7152: 2, 2213: 2, 1794: 2, 888: 4, 2237: 2, 1897: 6, 17: 2, 755: 2, 4970: 2, 3471: 2, 5634: 2, 744: 4, 4876: 2, 834: 2, 5621: 2, 3367: 2, 4139: 2, 3799: 6, 2941: 2, 2657: 2, 6096: 2, 4524: 2, 4063: 2, 3800: 2, 3954: 2, 6478: 2, 2679: 2, 1048: 2, 3344: 2, 2646: 2, 3657: 2, 6002: 2, 2736: 2, 3504: 4, 3449: 2, 227: 2, 4231: 2, 3493: 2, 1940: 2, 4495: 2, 599: 2, 3893: 4, 4058: 8, 3428: 2, 4372: 2, 5242: 2, 2291: 2, 3451: 2, 2878: 2, 1457: 2, 97: 2, 4216: 2, 3717: 4, 2717: 2, 1099: 2, 1381: 2, 1118: 2, 4855: 2, 3822: 4, 446: 2, 1846: 2, 4122: 2, 5064: 2, 55: 2, 2986: 6, 91: 4, 653: 6, 3713: 2, 2975: 2, 2895: 2, 1422: 4, 547: 2, 3977: 4, 808: 4, 3375: 8, 4427: 4, 2527: 4, 3622: 4, 3540: 4, 4724: 4, 2800: 4, 7941: 4, 1180: 4, 2965: 4, 3169: 8, 6186: 4, 4747: 2, 4956: 4, 2910: 2, 5288: 2, 4789: 4, 2190: 6, 3789: 2, 2940: 2, 2453: 2, 1569: 4, 5927: 2, 4895: 2, 1734: 2, 722: 2, 2048: 2, 1544: 2, 5424: 2, 1127: 2, 3691: 2, 2954: 2, 1400: 2, 526: 2, 3956: 2, 563: 2, 3354: 4, 3601: 2, 3519: 2, 2888: 2, 3832: 2, 4702: 2, 2306: 2, 2911: 2, 3158: 2, 3078: 2, 2579: 8, 1605: 2, 730: 2, 4160: 8, 264: 6, 1: 6, 155: 8, 3558: 12, 4610: 6, 2711: 6, 3805: 6, 3724: 6, 4037: 8, 2984: 6, 3116: 8, 6524: 2, 2883: 2, 1880: 6, 3454: 2, 2605: 2, 4454: 2, 2035: 2, 870: 2, 1259: 4, 5617: 2, 4559: 2, 1425: 2, 1011: 2, 4859: 2, 4998: 2, 5787: 2, 2145: 2, 1002: 2, 133: 2, 522: 4, 4879: 2, 900: 2, 687: 2, 1001: 2, 79: 2, 3774: 2, 2960: 6, 2859: 2, 3690: 2, 6789: 2, 3224: 2, 4901: 2, 5797: 2, 6110: 4, 1773: 2, 6686: 2, 6433: 2, 5569: 2, 6136: 2, 3165: 4, 3286: 2, 3916: 2, 3147: 4, 3166: 4, 2156: 4, 5306: 4, 3045: 4, 2710: 6, 3894: 4, 7111: 4, 1728: 6, 5062: 2, 4799: 2, 4953: 2, 3878: 2, 4267: 4, 5708: 2, 4729: 2, 4432: 2, 3801: 2, 4745: 2, 5615: 2, 4082: 2, 3824: 2, 3430: 2, 1849: 2, 1883: 2, 2828: 6, 3880: 2, 3075: 2, 2993: 2, 2363: 2, 3307: 2, 4177: 2, 2254: 2, 7395: 2, 2386: 2, 2300: 2, 5989: 2, 4824: 2, 102: 2, 2003: 2, 1313: 2, 4838: 2, 3168: 2, 3557: 4, 4609: 2, 4057: 2, 3804: 2, 3092: 2, 4036: 2, 2983: 2, 776: 2, 5769: 2, 3403: 2, 3903: 2, 3650: 2, 3882: 2, 4752: 2, 3806: 2, 4681: 2, 4994: 4, 3322: 2, 4695: 2, 4442: 2, 3621: 4, 3753: 4, 4101: 2, 5570: 2, 5317: 2, 5019: 2, 5472: 2, 6419: 2, 1724: 2, 4588: 2, 2454: 2, 4722: 2, 5754: 2, 4505: 2, 4818: 2, 5688: 2, 3897: 2, 1954: 2, 4736: 2, 2619: 2, 1921: 2, 2933: 2, 3227: 2, 6053: 2, 2011: 2, 1036: 2, 2436: 2, 5401: 2, 2064: 2, 4470: 2, 2749: 2, 6429: 2, 1633: 2, 5870: 2, 1828: 2, 5693: 2}\n"
          ]
        }
      ]
    },
    {
      "cell_type": "code",
      "source": [
        "def create_data_model(mat):\n",
        "    \"\"\"Stores the data for the problem.\"\"\"\n",
        "    data = {}\n",
        "    data['distance_matrix'] = mat\n",
        "    data['num_vehicles'] = 5\n",
        "    data['depot'] = 0\n",
        "    return data"
      ],
      "metadata": {
        "id": "HlrJdr-Tclp2"
      },
      "execution_count": 20,
      "outputs": []
    },
    {
      "cell_type": "code",
      "source": [
        "data = create_data_model(distance_matrix)"
      ],
      "metadata": {
        "id": "Ca_iCo7JdmK_"
      },
      "execution_count": 21,
      "outputs": []
    },
    {
      "cell_type": "code",
      "source": [
        "def print_solution(data, manager, routing, solution):\n",
        "    \"\"\"Prints solution on console.\"\"\"\n",
        "    print(f'Objective: {solution.ObjectiveValue()}')\n",
        "    max_route_distance = 0\n",
        "    for vehicle_id in range(data['num_vehicles']):\n",
        "        index = routing.Start(vehicle_id)\n",
        "        plan_output = 'Route for vehicle {}:\\n'.format(vehicle_id)\n",
        "        route_distance = 0\n",
        "        while not routing.IsEnd(index):\n",
        "            plan_output += ' {} -> '.format(manager.IndexToNode(index))\n",
        "            previous_index = index\n",
        "            index = solution.Value(routing.NextVar(index))\n",
        "            route_distance += routing.GetArcCostForVehicle(\n",
        "                previous_index, index, vehicle_id)\n",
        "        plan_output += '{}\\n'.format(manager.IndexToNode(index))\n",
        "        plan_output += 'Distance of the route: {}m\\n'.format(route_distance)\n",
        "        print(plan_output)\n",
        "        max_route_distance = max(route_distance, max_route_distance)\n",
        "    print('Maximum of the route distances: {}m'.format(max_route_distance))"
      ],
      "metadata": {
        "id": "tf4ZHHUBeaae"
      },
      "execution_count": 22,
      "outputs": []
    },
    {
      "cell_type": "code",
      "source": [
        "manager = pywrapcp.RoutingIndexManager(len(data['distance_matrix']),\n",
        "                                           data['num_vehicles'], data['depot'])\n",
        "\n",
        "# Create Routing Model.\n",
        "routing = pywrapcp.RoutingModel(manager)"
      ],
      "metadata": {
        "id": "jCq7oG3defbY"
      },
      "execution_count": 23,
      "outputs": []
    },
    {
      "cell_type": "code",
      "source": [
        "def distance_callback(from_index, to_index):\n",
        "    \"\"\"Returns the distance between the two nodes.\"\"\"\n",
        "    # Convert from routing variable Index to distance matrix NodeIndex.\n",
        "    from_node = manager.IndexToNode(from_index)\n",
        "    to_node = manager.IndexToNode(to_index)\n",
        "    return data['distance_matrix'][from_node][to_node]\n",
        "\n",
        "transit_callback_index = routing.RegisterTransitCallback(distance_callback)\n",
        "routing.SetArcCostEvaluatorOfAllVehicles(transit_callback_index)"
      ],
      "metadata": {
        "id": "UhSW5JgydrYd"
      },
      "execution_count": 24,
      "outputs": []
    },
    {
      "cell_type": "code",
      "source": [
        "# Add Distance constraint.\n",
        "dimension_name = 'Distance'\n",
        "routing.AddDimension(\n",
        "    transit_callback_index,\n",
        "    0,  # no slack\n",
        "    30000000,  # vehicle maximum travel distance\n",
        "    True,  # start cumul to zero\n",
        "    dimension_name)\n",
        "distance_dimension = routing.GetDimensionOrDie(dimension_name)\n",
        "distance_dimension.SetGlobalSpanCostCoefficient(10000000)\n",
        "\n",
        "# Setting first solution heuristic.\n",
        "search_parameters = pywrapcp.DefaultRoutingSearchParameters()\n",
        "search_parameters.first_solution_strategy = (\n",
        "    routing_enums_pb2.FirstSolutionStrategy.PATH_CHEAPEST_ARC)\n",
        "\n",
        "# Solve the problem.\n",
        "solution = routing.SolveWithParameters(search_parameters)\n",
        "\n",
        "# Print solution on console.\n",
        "if solution:\n",
        "    print_solution(data, manager, routing, solution)\n",
        "else:\n",
        "    print('No solution found !')"
      ],
      "metadata": {
        "colab": {
          "base_uri": "https://localhost:8080/"
        },
        "id": "o8MR3h0xeuVZ",
        "outputId": "84a4e780-6efa-417c-b853-86f9ad73dc8a"
      },
      "execution_count": 26,
      "outputs": [
        {
          "output_type": "stream",
          "name": "stdout",
          "text": [
            "Objective: 556860272104\n",
            "Route for vehicle 0:\n",
            " 0 ->  102 ->  113 ->  98 ->  103 ->  97 ->  137 ->  126 ->  95 ->  100 ->  96 ->  99 ->  129 ->  105 ->  123 ->  106 ->  101 ->  104 ->  107 ->  108 ->  110 ->  122 ->  118 ->  130 ->  135 ->  116 ->  131 ->  132 ->  133 ->  119 ->  125 ->  120 ->  139 ->  121 ->  109 ->  79 ->  54 ->  60 ->  62 ->  50 ->  61 ->  63 ->  70 ->  82 ->  88 ->  86 ->  67 ->  81 ->  83 ->  73 ->  93 ->  89 ->  85 ->  76 ->  59 ->  64 ->  68 ->  69 ->  51 ->  84 ->  72 ->  56 ->  55 ->  77 ->  66 ->  47 ->  12 ->  10 ->  4 ->  23 ->  41 ->  33 ->  38 ->  36 ->  35 ->  34 ->  32 ->  43 ->  8 ->  26 ->  39 ->  22 ->  27 ->  5 ->  18 ->  29 ->  28 ->  158 -> 0\n",
            "Distance of the route: 53877m\n",
            "\n",
            "Route for vehicle 1:\n",
            " 0 ->  25 ->  87 ->  49 ->  58 ->  52 ->  74 ->  90 ->  92 ->  53 ->  182 ->  184 ->  190 ->  154 ->  178 ->  180 ->  167 ->  172 ->  173 ->  161 ->  166 ->  177 ->  163 ->  174 ->  185 ->  175 ->  192 ->  170 ->  183 ->  57 ->  75 ->  94 ->  78 ->  80 ->  91 ->  71 ->  65 ->  152 ->  153 ->  11 ->  6 ->  2 ->  13 ->  19 ->  24 ->  3 -> 0\n",
            "Distance of the route: 54204m\n",
            "\n",
            "Route for vehicle 2:\n",
            " 0 ->  194 ->  179 ->  171 ->  146 ->  140 ->  150 ->  149 ->  148 ->  151 ->  144 ->  145 ->  142 ->  143 ->  147 -> 0\n",
            "Distance of the route: 55686m\n",
            "\n",
            "Route for vehicle 3:\n",
            " 0 ->  44 ->  42 ->  16 ->  15 ->  21 ->  7 ->  17 ->  45 ->  30 ->  20 ->  193 ->  157 ->  155 ->  187 ->  160 ->  186 ->  176 ->  168 ->  159 ->  191 ->  165 ->  189 ->  169 ->  181 ->  164 ->  162 ->  188 ->  156 ->  9 -> 0\n",
            "Distance of the route: 52859m\n",
            "\n",
            "Route for vehicle 4:\n",
            " 0 ->  37 ->  1 ->  40 ->  48 ->  14 ->  141 ->  114 ->  134 ->  111 ->  136 ->  124 ->  127 ->  115 ->  138 ->  128 ->  112 ->  117 ->  46 ->  31 -> 0\n",
            "Distance of the route: 55478m\n",
            "\n",
            "Maximum of the route distances: 55686m\n"
          ]
        }
      ]
    },
    {
      "cell_type": "code",
      "source": [],
      "metadata": {
        "id": "9Y7ap_1sYI4v"
      },
      "execution_count": null,
      "outputs": []
    }
  ]
}